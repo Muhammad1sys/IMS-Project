{
 "cells": [
  {
   "cell_type": "code",
   "execution_count": 9,
   "metadata": {},
   "outputs": [
    {
     "name": "stdout",
     "output_type": "stream",
     "text": [
      "Umair having age 23 and roll # 3215 doesn't work at home!\n"
     ]
    }
   ],
   "source": [
    "class Student:\n",
    "    def __init__(self, name, age, registration):  \n",
    "        self.name = name \n",
    "        self.age = age \n",
    "        self.registration = registration \n",
    "    \n",
    "    def does_not_work_at_home(self):\n",
    "        print(f\"{self.name.title()} having age {self.age} and roll # {self.registration} doesn't work at home!\")\n",
    "    \n",
    "new_student = Student(\"umair\", 23, 3215)\n",
    "new_student.does_not_work_at_home()\n",
    "\n",
    "        "
   ]
  },
  {
   "cell_type": "code",
   "execution_count": null,
   "metadata": {},
   "outputs": [],
   "source": []
  }
 ],
 "metadata": {
  "kernelspec": {
   "display_name": "Python 3",
   "language": "python",
   "name": "python3"
  },
  "language_info": {
   "codemirror_mode": {
    "name": "ipython",
    "version": 3
   },
   "file_extension": ".py",
   "mimetype": "text/x-python",
   "name": "python",
   "nbconvert_exporter": "python",
   "pygments_lexer": "ipython3",
   "version": "3.10.2"
  }
 },
 "nbformat": 4,
 "nbformat_minor": 2
}
