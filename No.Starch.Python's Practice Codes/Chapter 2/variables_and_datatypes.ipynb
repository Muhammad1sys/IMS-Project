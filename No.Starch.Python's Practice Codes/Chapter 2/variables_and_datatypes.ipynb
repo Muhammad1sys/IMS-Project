{
 "cells": [
  {
   "cell_type": "markdown",
   "metadata": {},
   "source": [
    "# Variables and Data types"
   ]
  },
  {
   "cell_type": "markdown",
   "metadata": {},
   "source": [
    "### Naming and introducing variables"
   ]
  },
  {
   "cell_type": "code",
   "execution_count": 9,
   "metadata": {},
   "outputs": [
    {
     "name": "stdout",
     "output_type": "stream",
     "text": [
      "Hello Python World!\n"
     ]
    }
   ],
   "source": [
    "message : str = \"Hello Python World!\"\n",
    "print(message)\n"
   ]
  },
  {
   "cell_type": "code",
   "execution_count": 8,
   "metadata": {},
   "outputs": [
    {
     "name": "stdout",
     "output_type": "stream",
     "text": [
      "Hello Python World!\n",
      "Hello Python crash course world!\n"
     ]
    }
   ],
   "source": [
    "message : str = \"Hello Python World!\"\n",
    "print(message)\n",
    "\n",
    "message1 : str = \"Hello Python crash course world!\"\n",
    "print(message1)"
   ]
  },
  {
   "cell_type": "markdown",
   "metadata": {},
   "source": [
    "### Avoiding Name Errors When Using Variables"
   ]
  },
  {
   "cell_type": "code",
   "execution_count": 10,
   "metadata": {},
   "outputs": [
    {
     "ename": "NameError",
     "evalue": "name 'mesage' is not defined",
     "output_type": "error",
     "traceback": [
      "\u001b[1;31m---------------------------------------------------------------------------\u001b[0m",
      "\u001b[1;31mNameError\u001b[0m                                 Traceback (most recent call last)",
      "Cell \u001b[1;32mIn[10], line 2\u001b[0m\n\u001b[0;32m      1\u001b[0m message : \u001b[38;5;28mstr\u001b[39m \u001b[38;5;241m=\u001b[39m \u001b[38;5;124m\"\u001b[39m\u001b[38;5;124mHello Python Crash Course Reader!\u001b[39m\u001b[38;5;124m\"\u001b[39m\n\u001b[1;32m----> 2\u001b[0m \u001b[38;5;28mprint\u001b[39m(\u001b[43mmesage\u001b[49m)\n",
      "\u001b[1;31mNameError\u001b[0m: name 'mesage' is not defined"
     ]
    }
   ],
   "source": [
    "message : str = \"Hello Python Crash Course Reader!\"\n",
    "print(mesage)"
   ]
  },
  {
   "cell_type": "code",
   "execution_count": 11,
   "metadata": {},
   "outputs": [
    {
     "name": "stdout",
     "output_type": "stream",
     "text": [
      "Hello Python Crash Course Reader!\n"
     ]
    }
   ],
   "source": [
    "mesage : str = \"Hello Python Crash Course Reader!\"\n",
    "print(mesage)"
   ]
  },
  {
   "cell_type": "markdown",
   "metadata": {},
   "source": [
    "### Try It Yourself\n",
    "\n",
    "Write a separate program to accomplish each of these exercises. Save \n",
    "each program with a filename that follows standard Python conventions, \n",
    "using lowercase letters and underscores, such as simple_message.py and \n",
    "simple_messages.py.\n"
   ]
  },
  {
   "cell_type": "markdown",
   "metadata": {},
   "source": [
    "2-1. Simple Message: Store a message in a variable, and then print that \n",
    "message.\n"
   ]
  },
  {
   "cell_type": "code",
   "execution_count": 13,
   "metadata": {},
   "outputs": [
    {
     "name": "stdout",
     "output_type": "stream",
     "text": [
      "Hello Dear! \n",
      "How are you doing?\n"
     ]
    }
   ],
   "source": [
    "#filename: simple_message.py or simple_message.ipynb\n",
    "\n",
    "message: str = \"Hello Dear! \\nHow are you doing?\"\n",
    "print(message)\n"
   ]
  },
  {
   "cell_type": "markdown",
   "metadata": {},
   "source": [
    "2-2. Simple Messages: Store a message in a variable, and print that message.\n",
    "Then change the value of your variable to a new message, and print the new \n",
    "message"
   ]
  },
  {
   "cell_type": "code",
   "execution_count": 15,
   "metadata": {},
   "outputs": [
    {
     "name": "stdout",
     "output_type": "stream",
     "text": [
      "This is the first message.\n",
      "A religious teacher asked the studends: Have you ever wondered what's the purpose of your life? \n",
      "I mean, why are we created?\n"
     ]
    }
   ],
   "source": [
    "#file name : simple_messages.py\n",
    "\n",
    "message : str = \"This is the first message.\"\n",
    "print(message)\n",
    "\n",
    "message : str = \"A religious teacher asked the studends: Have you ever wondered what's the purpose of your life? \\nI mean, why are we created?\"\n",
    "print(message)"
   ]
  },
  {
   "cell_type": "markdown",
   "metadata": {},
   "source": [
    "## Strings"
   ]
  },
  {
   "cell_type": "markdown",
   "metadata": {},
   "source": [
    " String is simply a series of characters. Anything inside quotes is considered a string in Python, and you can use single or double quotes around \n",
    "your strings like this:"
   ]
  },
  {
   "cell_type": "code",
   "execution_count": 18,
   "metadata": {},
   "outputs": [
    {
     "name": "stdout",
     "output_type": "stream",
     "text": [
      "This is a string.\n",
      "This is also a string.\n"
     ]
    }
   ],
   "source": [
    "print('This is a string.')\n",
    "print(\"This is also a string.\")"
   ]
  },
  {
   "cell_type": "markdown",
   "metadata": {},
   "source": [
    "This flexibility allows you to use quotes and apostrophes within your \n",
    "strings"
   ]
  },
  {
   "cell_type": "code",
   "execution_count": 19,
   "metadata": {},
   "outputs": [
    {
     "name": "stdout",
     "output_type": "stream",
     "text": [
      "I told my friend, \"Pyhton is my favorite language!\"\n",
      "The language 'Python' is named after Monty Python, not the snake.\n",
      "One of the Python's strengths is its diverse and supportive community\n"
     ]
    }
   ],
   "source": [
    "print('I told my friend, \"Pyhton is my favorite language!\"')\n",
    "print(\"The language 'Python' is named after Monty Python, not the snake.\")\n",
    "print(\"One of the Python's strengths is its diverse and supportive community\")"
   ]
  },
  {
   "cell_type": "markdown",
   "metadata": {},
   "source": [
    "Let’s explore some of the ways you can use strings"
   ]
  },
  {
   "cell_type": "markdown",
   "metadata": {},
   "source": [
    "#### Changing Case in a String with Methods"
   ]
  },
  {
   "cell_type": "code",
   "execution_count": 21,
   "metadata": {},
   "outputs": [
    {
     "name": "stdout",
     "output_type": "stream",
     "text": [
      "Ada Lovelace\n"
     ]
    }
   ],
   "source": [
    "name : str = \"ada lovelace\"\n",
    "print(name.title())"
   ]
  },
  {
   "cell_type": "code",
   "execution_count": 22,
   "metadata": {},
   "outputs": [
    {
     "name": "stdout",
     "output_type": "stream",
     "text": [
      "ada lovelace\n",
      "ADA LOVELACE\n"
     ]
    }
   ],
   "source": [
    "name : str = 'Ada Lovelace'\n",
    "print(name.lower())\n",
    "print(name.upper())"
   ]
  },
  {
   "cell_type": "markdown",
   "metadata": {},
   "source": [
    "#### Combining or Concatenating Strings"
   ]
  },
  {
   "cell_type": "code",
   "execution_count": 23,
   "metadata": {},
   "outputs": [
    {
     "name": "stdout",
     "output_type": "stream",
     "text": [
      "Ada Lovelace\n"
     ]
    }
   ],
   "source": [
    "first_name : str = \"Ada\"\n",
    "last_name : str = \"Lovelace\"\n",
    "full_name : str = first_name + \" \" + last_name\n",
    "print(full_name)"
   ]
  },
  {
   "cell_type": "code",
   "execution_count": 27,
   "metadata": {},
   "outputs": [
    {
     "name": "stdout",
     "output_type": "stream",
     "text": [
      "Hello, Ada Lovelace!\n"
     ]
    }
   ],
   "source": [
    "first_name : str = \"ada\"\n",
    "last_name : str = \"lovelace\"\n",
    "full_name : str = first_name + \" \" + last_name\n",
    "print(\"Hello, \" + full_name.title() + \"!\")"
   ]
  },
  {
   "cell_type": "code",
   "execution_count": 29,
   "metadata": {},
   "outputs": [
    {
     "name": "stdout",
     "output_type": "stream",
     "text": [
      "Hello, Ada Lovelace!\n"
     ]
    }
   ],
   "source": [
    "first_name : str = \"ada\"\n",
    "last_name : str = \"lovelace\"\n",
    "full_name : str = first_name + \" \" + last_name\n",
    "\n",
    "message : str = \"Hello, \" + full_name.title() + \"!\"\n",
    "print(message)"
   ]
  },
  {
   "cell_type": "markdown",
   "metadata": {},
   "source": [
    "#### Adding Whitespace to Strings with Tabs or Newlines"
   ]
  },
  {
   "cell_type": "markdown",
   "metadata": {},
   "source": [
    "In programming, whitespace refers to any nonprinting character, such as \n",
    "spaces, tabs, and end-of-line symbols. You can use whitespace to organize \n",
    "your output so it’s easier for users to read.\n",
    "To add a tab to your text, use the character combination \\t as shown :"
   ]
  },
  {
   "cell_type": "code",
   "execution_count": 30,
   "metadata": {},
   "outputs": [
    {
     "name": "stdout",
     "output_type": "stream",
     "text": [
      "Python\n",
      "\tPython\n"
     ]
    }
   ],
   "source": [
    "print(\"Python\")\n",
    "\n",
    "print(\"\\tPython\")"
   ]
  },
  {
   "cell_type": "markdown",
   "metadata": {},
   "source": [
    "To add a newline in a string, use the character combination \\n"
   ]
  },
  {
   "cell_type": "code",
   "execution_count": 31,
   "metadata": {},
   "outputs": [
    {
     "name": "stdout",
     "output_type": "stream",
     "text": [
      "Languages:\n",
      "Python\n",
      "C\n",
      "JavaScript\n"
     ]
    }
   ],
   "source": [
    "print(\"Languages:\\nPython\\nC\\nJavaScript\")"
   ]
  },
  {
   "cell_type": "code",
   "execution_count": 32,
   "metadata": {},
   "outputs": [
    {
     "name": "stdout",
     "output_type": "stream",
     "text": [
      "Languages:\n",
      "\tPython\n",
      "\tC\n",
      "\tJavaScript\n"
     ]
    }
   ],
   "source": [
    "print(\"Languages:\\n\\tPython\\n\\tC\\n\\tJavaScript\")"
   ]
  },
  {
   "cell_type": "markdown",
   "metadata": {},
   "source": [
    "### Stripping Whitespace"
   ]
  },
  {
   "cell_type": "code",
   "execution_count": 35,
   "metadata": {},
   "outputs": [
    {
     "name": "stdout",
     "output_type": "stream",
     "text": [
      "Python \n",
      "7\n",
      "Python\n",
      "6\n",
      "Python \n",
      "7\n"
     ]
    }
   ],
   "source": [
    "favorite_language : str = \"Python \"\n",
    "\n",
    "print(favorite_language)\n",
    "print(len(favorite_language))\n",
    "\n",
    "print(favorite_language.rstrip())\n",
    "print(len(favorite_language.rstrip()))\n",
    "\n",
    "print(favorite_language)\n",
    "print(len(favorite_language))"
   ]
  },
  {
   "cell_type": "markdown",
   "metadata": {},
   "source": [
    "Extra space is removed temporarily.To remove the whitespace from the string permanently, you have to \n",
    "store the stripped value back into the variable:"
   ]
  },
  {
   "cell_type": "code",
   "execution_count": 36,
   "metadata": {},
   "outputs": [
    {
     "name": "stdout",
     "output_type": "stream",
     "text": [
      "Python \n",
      "7\n",
      "Python\n",
      "6\n"
     ]
    }
   ],
   "source": [
    "favorite_language : str = \"Python \"\n",
    "\n",
    "print(favorite_language)\n",
    "print(len(favorite_language))\n",
    "\n",
    "favorite_language : str = favorite_language.rstrip()\n",
    "\n",
    "print(favorite_language)\n",
    "print(len(favorite_language))"
   ]
  },
  {
   "cell_type": "markdown",
   "metadata": {},
   "source": [
    "+ Changing a variable’s value and then storing \n",
    "the new value back in the original variable is done often in programming. \n",
    "This is how a variable’s value can change as a program is executed or in \n",
    "response to user input.\n",
    "\n",
    "+ You can also strip whitespace from the left side of a string using the \n",
    "lstrip() method or strip whitespace from both sides at once using strip()"
   ]
  },
  {
   "cell_type": "code",
   "execution_count": 38,
   "metadata": {},
   "outputs": [
    {
     "name": "stdout",
     "output_type": "stream",
     "text": [
      " Python \n",
      "8\n",
      " Python\n",
      "7\n",
      "Python \n",
      "7\n",
      "Python\n",
      "6\n"
     ]
    }
   ],
   "source": [
    "favorite_language : str = \" Python \"\n",
    "\n",
    "print(favorite_language)\n",
    "print(len(favorite_language))\n",
    "\n",
    "print(favorite_language.rstrip())\n",
    "print(len(favorite_language.rstrip()))\n",
    "\n",
    "print(favorite_language.lstrip())\n",
    "print(len(favorite_language.lstrip()))\n",
    "\n",
    "print(favorite_language.strip())\n",
    "print(len(favorite_language.strip()))"
   ]
  },
  {
   "cell_type": "markdown",
   "metadata": {},
   "source": [
    "### Avoiding Syntax Errors with Strings"
   ]
  },
  {
   "cell_type": "markdown",
   "metadata": {},
   "source": [
    " syntax error occurs when Python doesn’t recognize a section of your pro\u0002gram as valid Python code. For example, if you use an apostrophe within \n",
    "single quotes, you’ll produce an error. This happens because Python inter\u0002prets everything between the first single quote and the apostrophe as a \n",
    "string. It then tries to interpret the rest of the text as Python code, which \n",
    "causes errors. "
   ]
  },
  {
   "cell_type": "code",
   "execution_count": 42,
   "metadata": {},
   "outputs": [
    {
     "ename": "SyntaxError",
     "evalue": "unterminated string literal (detected at line 1) (893477713.py, line 1)",
     "output_type": "error",
     "traceback": [
      "\u001b[1;36m  Cell \u001b[1;32mIn[42], line 1\u001b[1;36m\u001b[0m\n\u001b[1;33m    message : str = 'One of the Python's strength is its diverse community.'\u001b[0m\n\u001b[1;37m                                                                           ^\u001b[0m\n\u001b[1;31mSyntaxError\u001b[0m\u001b[1;31m:\u001b[0m unterminated string literal (detected at line 1)\n"
     ]
    }
   ],
   "source": [
    "message : str = 'One of the Python's strength is its diverse community.'\n",
    "print(message)"
   ]
  },
  {
   "cell_type": "markdown",
   "metadata": {},
   "source": [
    "Here’s how to use single and double quotes correctly. Save this program \n",
    "as apostrophe.py and then run it"
   ]
  },
  {
   "cell_type": "code",
   "execution_count": 43,
   "metadata": {},
   "outputs": [
    {
     "name": "stdout",
     "output_type": "stream",
     "text": [
      "One of the Python's strength is its diverse community.\n"
     ]
    }
   ],
   "source": [
    "message : str = \"One of the Python's strength is its diverse community.\"\n",
    "print(message)"
   ]
  },
  {
   "cell_type": "markdown",
   "metadata": {},
   "source": [
    "### Try It Yourself"
   ]
  },
  {
   "cell_type": "markdown",
   "metadata": {},
   "source": [
    "Save each of the following exercises as a separate file with a name like \n",
    "name_cases.py. If you get stuck, take a break or see the suggestions in \n",
    "Appendix C."
   ]
  },
  {
   "cell_type": "markdown",
   "metadata": {},
   "source": [
    "2-3. Personal Message: Store a person’s name in a variable, and print a message to that person. Your message should be simple, such as, “Hello Eric, \n",
    "would you like to learn some Python today?”"
   ]
  },
  {
   "cell_type": "code",
   "execution_count": 45,
   "metadata": {},
   "outputs": [
    {
     "name": "stdout",
     "output_type": "stream",
     "text": [
      "Hello Adam,would you like to learn some Python today?\n"
     ]
    }
   ],
   "source": [
    "#filename : personal_message.py\n",
    "\n",
    "name : str = \"Adam\"\n",
    "print(\"Hello \"+ name + \",would you like to learn some Python today?\")"
   ]
  },
  {
   "cell_type": "markdown",
   "metadata": {},
   "source": [
    "2-4. Name Cases: Store a person’s name in a variable, and then print that person’s name in lowercase, uppercase, and titlecase."
   ]
  },
  {
   "cell_type": "code",
   "execution_count": 47,
   "metadata": {},
   "outputs": [
    {
     "name": "stdout",
     "output_type": "stream",
     "text": [
      "Lower case: sir rehan\n",
      "Upper case: SIR REHAN\n",
      "Title case: Sir Rehan\n"
     ]
    }
   ],
   "source": [
    "#filename: name_cases.py\n",
    "\n",
    "name : str = \"Sir Rehan\"\n",
    "\n",
    "print(\"Lower case: \"+ name.lower())\n",
    "print(\"Upper case: \"+ name.upper())\n",
    "print(\"Title case: \"+ name.title())"
   ]
  },
  {
   "cell_type": "markdown",
   "metadata": {},
   "source": [
    "2-5. Famous Quote: Find a quote from a famous person you admire. Print the \n",
    "quote and the name of its author. Your output should look something like the \n",
    "following, including the quotation marks:\n"
   ]
  },
  {
   "cell_type": "markdown",
   "metadata": {},
   "source": [
    "    Albert Einstein once said, “A person who never made a \n",
    "    mistake never tried anything new.”"
   ]
  },
  {
   "cell_type": "code",
   "execution_count": 49,
   "metadata": {},
   "outputs": [
    {
     "name": "stdout",
     "output_type": "stream",
     "text": [
      "\tRumi says: \"Do not you know yet? It is\n",
      "\tyour light that lights the world.\n"
     ]
    }
   ],
   "source": [
    "#filename : famous_quote.py\n",
    "\n",
    "famous_quote : str = '\\tRumi says: \"Do not you know yet? It is\\n\\tyour light that lights the world.'\n",
    "print(famous_quote)"
   ]
  },
  {
   "cell_type": "markdown",
   "metadata": {},
   "source": [
    "2-6. Famous Quote 2: Repeat Exercise 2-5, but this time store the famous person’s name in a variable called famous_person. Then compose your message \n",
    "and store it in a new variable called message. Print your message."
   ]
  },
  {
   "cell_type": "code",
   "execution_count": 50,
   "metadata": {},
   "outputs": [
    {
     "name": "stdout",
     "output_type": "stream",
     "text": [
      "\tRumi says: Do not you know yet? It is\n",
      "\tyour light that lights the world.\n"
     ]
    }
   ],
   "source": [
    "#filename : famous_quote.py\n",
    "famous_person : str = \"Rumi\"\n",
    "message : str = \"Do not you know yet? It is\\n\\tyour light that lights the world.\"\n",
    "print(\"\\t\"+ famous_person + \" says: \" + message)"
   ]
  },
  {
   "cell_type": "markdown",
   "metadata": {},
   "source": [
    "2-7. Stripping Names: Store a person’s name, and include some whitespace \n",
    "characters at the beginning and end of the name. Make sure you use each \n",
    "character combination, \"\\t\" and \"\\n\", at least once.\n",
    "Print the name once, so the whitespace around the name is displayed.\n",
    "Then print the name using each of the three stripping functions, lstrip(), \n",
    "rstrip(), and strip()"
   ]
  },
  {
   "cell_type": "code",
   "execution_count": 55,
   "metadata": {},
   "outputs": [
    {
     "name": "stdout",
     "output_type": "stream",
     "text": [
      "\t Muhammad Bin Qasim \n",
      "\n",
      " Muhammad Bin Qasim \n",
      "lstripe:Muhammad Bin Qasim \n",
      "rstripe: Muhammad Bin Qasim\n",
      "stripe:Muhammad Bin Qasim\n"
     ]
    }
   ],
   "source": [
    "#filename : stripping_names\n",
    "name : str = ' Muhammad Bin Qasim '\n",
    "\n",
    "print(\"\\t\" + name)\n",
    "print(\"\\n\" + name)\n",
    "\n",
    "print(\"lstripe:\" + name.lstrip())\n",
    "print(\"rstripe:\" + name.rstrip())\n",
    "print(\"stripe:\" + name.strip())"
   ]
  },
  {
   "cell_type": "markdown",
   "metadata": {},
   "source": [
    "### Numbers "
   ]
  },
  {
   "cell_type": "markdown",
   "metadata": {},
   "source": [
    "Numbers are used quite often in programming to keep score in games, represent data in visualizations, store information in web applications, and so \n",
    "on. Python treats numbers in several different ways, depending on how they \n",
    "are being used. Let’s first look at how Python manages integers, because \n",
    "they are the simplest to work with."
   ]
  },
  {
   "cell_type": "markdown",
   "metadata": {},
   "source": [
    "Integers\n",
    "+ You can add (+), subtract (-), multiply (*), and divide (/) integers in Python. "
   ]
  },
  {
   "cell_type": "code",
   "execution_count": 64,
   "metadata": {},
   "outputs": [
    {
     "name": "stdout",
     "output_type": "stream",
     "text": [
      "Addition:  5\n",
      "Subtraction :  1\n",
      "Multiplication : 6\n",
      "Division :  1.5\n",
      "Floor Division :  1\n"
     ]
    }
   ],
   "source": [
    "addition : int = 2 + 3\n",
    "print(\"Addition: \" ,addition)\n",
    "\n",
    "subtraction : int = 3-2\n",
    "print(\"Subtraction : \",subtraction)\n",
    "\n",
    "multiplication : int = 3 * 2\n",
    "print(\"Multiplication :\",multiplication)\n",
    "\n",
    "division : float =  3 / 2 \n",
    "print(\"Division : \" , division)\n",
    "\n",
    "floor_division : int = 3 // 2\n",
    "print(\"Floor Division : \" , floor_division)\n"
   ]
  },
  {
   "cell_type": "markdown",
   "metadata": {},
   "source": [
    "For power we use **"
   ]
  },
  {
   "cell_type": "code",
   "execution_count": 65,
   "metadata": {},
   "outputs": [
    {
     "name": "stdout",
     "output_type": "stream",
     "text": [
      "9\n",
      "27\n",
      "1000000\n"
     ]
    }
   ],
   "source": [
    "num : int = 3 ** 2\n",
    "num1 : int = 3 ** 3\n",
    "num2 : int = 10 ** 6\n",
    "\n",
    "print(num)\n",
    "print(num1)\n",
    "print(num2)"
   ]
  },
  {
   "cell_type": "markdown",
   "metadata": {},
   "source": [
    "Python supports the order of operations too, so you can use multiple \n",
    "operations in one expression. You can also use parentheses to modify the \n",
    "order of operations so Python can evaluate your expression in the order \n",
    "you specify."
   ]
  },
  {
   "cell_type": "code",
   "execution_count": 66,
   "metadata": {},
   "outputs": [
    {
     "name": "stdout",
     "output_type": "stream",
     "text": [
      "14\n",
      "20\n"
     ]
    }
   ],
   "source": [
    "task : int = 2 + 3 * 4\n",
    "task1 : int = (2+3) * 4\n",
    "\n",
    "print(task)\n",
    "print(task1)"
   ]
  },
  {
   "cell_type": "markdown",
   "metadata": {},
   "source": [
    "#### Precedence"
   ]
  },
  {
   "cell_type": "markdown",
   "metadata": {},
   "source": [
    "In Python, when you use multiple operators in an expression, the computer needs to know which one to evaluate first. This is where \"precedence\" comes in.\n",
    "\n",
    "Think of precedence like a set of rules that says which operator is \"more important\" than another.\n",
    "\n",
    "Here's a simple example:\n",
    "\n",
    "2 + 3 * 4\n",
    "\n",
    "In this case, the computer needs to know whether to add 2 and 3 first, or multiply 3 and 4 first.\n",
    "\n",
    "Because * (multiplication) has higher precedence than + (addition), the computer evaluates the expression like this:\n",
    "\n",
    "1. Multiply 3 and 4: 3 * 4 = 12\n",
    "2. Add 2 to the result: 2 + 12 = 14\n",
    "\n",
    "So the final answer is 14.\n",
    "\n",
    "Here's another example:\n",
    "\n",
    "10 - 3 - 2\n",
    "\n",
    "In this case, because - (subtraction) is left-associative, the computer evaluates the expression like this:\n",
    "\n",
    "1. Subtract 3 from 10: 10 - 3 = 7\n",
    "2. Subtract 2 from the result: 7 - 2 = 5\n",
    "\n",
    "So the final answer is 5.\n",
    "\n",
    "That's precedence in a nutshell!\n",
    "\n",
    "Let's dive deeper into the operator precedence in Python:\n",
    "\n",
    "*1. Parentheses (( and ))*\n",
    "* Evaluate expressions inside parentheses first.\n",
    "* This allows you to override the default precedence.\n",
    "\n",
    "*2. Exponentiation (**)*\n",
    "* Evaluate exponentiation operations next (e.g., 2**3).\n",
    "* Right-associative, meaning 2**3**4 is evaluated as 2**(3**4).\n",
    "\n",
    "*3. Unary Operators (+, -, ~, not)*\n",
    "* Evaluate unary operators next (e.g., -x, not True).\n",
    "* Right-associative.\n",
    "\n",
    "*4. Multiplication, Division, Modulus, Floor Division (*, /, %, //)*\n",
    "* Evaluate multiplication and division operations from left to right.\n",
    "* *, /, and // have the same precedence.\n",
    "* % has the same precedence as *, /, and //.\n",
    "\n",
    "*5. Addition and Subtraction (+, -)*\n",
    "* Evaluate addition and subtraction operations from left to right.\n",
    "* + and - have the same precedence.\n",
    "\n",
    "*6. Comparison Operators (==, !=, >, <, >= , <=)*\n",
    "* Evaluate comparison operations from left to right.\n",
    "* Non-associative, meaning you can't chain comparison operators (e.g., a < b < c is not allowed).\n",
    "\n",
    "*7. Logical Operators (and, or, not)*\n",
    "* Evaluate logical operations from left to right.\n",
    "* and and or have the same precedence.\n",
    "* not has higher precedence than and and or.\n",
    "\n",
    "*8. Assignment Operators (=, +=, -=, *=, /=, etc.)*\n",
    "* Evaluate assignment operations from right to left.\n",
    "* Right-associative.\n",
    "\n",
    "By following this order of operations, Python ensures that expressions are evaluated consistently and predictably."
   ]
  },
  {
   "cell_type": "markdown",
   "metadata": {},
   "source": [
    "### Float"
   ]
  },
  {
   "cell_type": "markdown",
   "metadata": {},
   "source": [
    "* Python calls any number with a decimal point a float. This term is used in \n",
    "most programming languages, and it refers to the fact that a decimal point \n",
    "can appear at any position in a number.\n",
    "* For the most part, you can use decimals without worrying about how \n",
    "they behave. Simply enter the numbers you want to use, and Python will \n",
    "most likely do what you expect:"
   ]
  },
  {
   "cell_type": "code",
   "execution_count": 68,
   "metadata": {},
   "outputs": [
    {
     "name": "stdout",
     "output_type": "stream",
     "text": [
      "0.30000000000000004\n",
      "0.4\n",
      "0.2\n",
      "0.8\n"
     ]
    }
   ],
   "source": [
    "task : float = 0.1 + 0.2\n",
    "task1 : float = 0.2 + 0.2\n",
    "task2 : float = 2 * 0.1\n",
    "task3 : float = 2 * 0.4\n",
    "\n",
    "print(task)\n",
    "print(task1)\n",
    "print(task2)\n",
    "print(task3)"
   ]
  },
  {
   "cell_type": "markdown",
   "metadata": {},
   "source": [
    "But be aware that you can sometimes get an arbitrary number of deci\u0002mal places in your answe"
   ]
  },
  {
   "cell_type": "code",
   "execution_count": 69,
   "metadata": {},
   "outputs": [
    {
     "name": "stdout",
     "output_type": "stream",
     "text": [
      "0.30000000000000004\n",
      "0.30000000000000004\n"
     ]
    }
   ],
   "source": [
    "task : float = 0.1 + 0.2\n",
    "task1 : float = 3 * 0.1\n",
    "\n",
    "print(task)\n",
    "print(task1)"
   ]
  },
  {
   "cell_type": "markdown",
   "metadata": {},
   "source": [
    "### Avoiding Type Errors with the str() Function"
   ]
  },
  {
   "cell_type": "markdown",
   "metadata": {},
   "source": [
    "Often, you’ll want to use a variable’s value within a message. For example, \n",
    "say you want to wish someone a happy birthday. You might write code \n",
    "like this:"
   ]
  },
  {
   "cell_type": "code",
   "execution_count": 70,
   "metadata": {},
   "outputs": [
    {
     "ename": "TypeError",
     "evalue": "can only concatenate str (not \"int\") to str",
     "output_type": "error",
     "traceback": [
      "\u001b[1;31m---------------------------------------------------------------------------\u001b[0m",
      "\u001b[1;31mTypeError\u001b[0m                                 Traceback (most recent call last)",
      "Cell \u001b[1;32mIn[70], line 4\u001b[0m\n\u001b[0;32m      1\u001b[0m \u001b[38;5;66;03m# filename: birthday_message.py\u001b[39;00m\n\u001b[0;32m      3\u001b[0m age : \u001b[38;5;28mint\u001b[39m \u001b[38;5;241m=\u001b[39m \u001b[38;5;241m23\u001b[39m\n\u001b[1;32m----> 4\u001b[0m message : \u001b[38;5;28many\u001b[39m \u001b[38;5;241m=\u001b[39m \u001b[38;5;124;43m\"\u001b[39;49m\u001b[38;5;124;43mHappy \u001b[39;49m\u001b[38;5;124;43m\"\u001b[39;49m\u001b[43m \u001b[49m\u001b[38;5;241;43m+\u001b[39;49m\u001b[43m \u001b[49m\u001b[43mage\u001b[49m \u001b[38;5;241m+\u001b[39m \u001b[38;5;124m\"\u001b[39m\u001b[38;5;124mrd birthday!\u001b[39m\u001b[38;5;124m\"\u001b[39m\n\u001b[0;32m      5\u001b[0m \u001b[38;5;28mprint\u001b[39m(message)\n",
      "\u001b[1;31mTypeError\u001b[0m: can only concatenate str (not \"int\") to str"
     ]
    }
   ],
   "source": [
    "# filename: birthday_message.py\n",
    "\n",
    "age : int = 23\n",
    "message : any = \"Happy \" + age + \"rd birthday!\"\n",
    "print(message)\n"
   ]
  },
  {
   "cell_type": "markdown",
   "metadata": {},
   "source": [
    "Above is a type error. It means Python can’t recognize the kind of information you’re using. In this example Python sees at u that you’re using a variable that has an integer value (int), but it’s not sure how to interpret that \n",
    "value. Python knows that the variable could represent either the numerical \n",
    "value 23 or the characters 2 and 3. W"
   ]
  },
  {
   "cell_type": "code",
   "execution_count": 71,
   "metadata": {},
   "outputs": [
    {
     "name": "stdout",
     "output_type": "stream",
     "text": [
      "Happy 23rd Birthday!\n"
     ]
    }
   ],
   "source": [
    "age : int = 23\n",
    "message : any = \"Happy \" + str(age) + \"rd Birthday!\"\n",
    "print(message)"
   ]
  },
  {
   "cell_type": "markdown",
   "metadata": {},
   "source": [
    "### Try It Yourself"
   ]
  },
  {
   "cell_type": "markdown",
   "metadata": {},
   "source": [
    "2-8. Number Eight: Write addition, subtraction, multiplication, and division \n",
    "operations that each result in the number 8. Be sure to enclose your operations \n",
    "in print statements to see the results. You should create four lines that look \n",
    "like this:\n",
    "print(5 + 3)\n",
    "Your output should simply be four lines with the number 8 appearing once \n",
    "on each line."
   ]
  },
  {
   "cell_type": "code",
   "execution_count": 74,
   "metadata": {},
   "outputs": [
    {
     "name": "stdout",
     "output_type": "stream",
     "text": [
      "8\n",
      "8\n",
      "8\n",
      "8\n"
     ]
    }
   ],
   "source": [
    "print(5 + 3)\n",
    "print(10 - 2)\n",
    "print(2 * 4)\n",
    "print(16 // 2)"
   ]
  },
  {
   "cell_type": "markdown",
   "metadata": {},
   "source": [
    "2-9. Favorite Number: Store your favorite number in a variable. Then, using \n",
    "that variable, create a message that reveals your favorite number. Print that \n",
    "message"
   ]
  },
  {
   "cell_type": "code",
   "execution_count": 79,
   "metadata": {},
   "outputs": [
    {
     "name": "stdout",
     "output_type": "stream",
     "text": [
      "My favorite number is 11.\n"
     ]
    }
   ],
   "source": [
    "favorite_number : int = 11\n",
    "message : str = \"My favorite number is \" + str(favorite_number) + \".\"\n",
    "\n",
    "print(message)"
   ]
  },
  {
   "cell_type": "markdown",
   "metadata": {},
   "source": [
    "### Comments"
   ]
  },
  {
   "cell_type": "markdown",
   "metadata": {},
   "source": [
    "Comments in code offer several benefits:\n",
    "\n",
    "1. **Clarity**: Comments explain the purpose and functionality of code, making it easier for others (and yourself) to understand the logic.\n",
    "2. **Maintenance**: They help in maintaining and updating code by providing context, which is essential when revisiting code after a long time.\n",
    "3. **Collaboration**: In team projects, comments improve collaboration by clearly conveying each part's intent and function to all team members.\n",
    "4. **Debugging**: They can be used to temporarily disable parts of code during testing or debugging, without deleting the code.\n",
    "5. **Documentation**: Serve as inline documentation, providing quick reference without needing to look at external documentation."
   ]
  },
  {
   "cell_type": "code",
   "execution_count": 80,
   "metadata": {},
   "outputs": [
    {
     "name": "stdout",
     "output_type": "stream",
     "text": [
      "Hello Python people!\n"
     ]
    }
   ],
   "source": [
    "# say hello to the people\n",
    "\n",
    "print(\"Hello Python people!\")"
   ]
  },
  {
   "cell_type": "markdown",
   "metadata": {},
   "source": [
    "In Python, the hash mark (#) indicates a comment. Anything following a \n",
    "hash mark in your code is ignored by the Python interpreter."
   ]
  },
  {
   "cell_type": "markdown",
   "metadata": {},
   "source": [
    "### Try It Yourself\n"
   ]
  },
  {
   "cell_type": "markdown",
   "metadata": {},
   "source": [
    "Try It Yourself\n",
    "2-10. Adding Comments: Choose two of the programs you’ve written, and \n",
    "add at least one comment to each. If you don’t have anything specific to write \n",
    "because your programs are too simple at this point, just add your name and \n",
    "the current date at the top of each program file. Then write one sentence \n",
    "describing what the program does."
   ]
  },
  {
   "cell_type": "code",
   "execution_count": 82,
   "metadata": {},
   "outputs": [
    {
     "name": "stdout",
     "output_type": "stream",
     "text": [
      "The first negative integer in a the list is -1\n"
     ]
    }
   ],
   "source": [
    "# program to write first negative number from the list\n",
    "\n",
    "numbers : list[int] = [1,3,65,3,-1,56,-10]\n",
    "\n",
    "for number in numbers: #using for loop to iterate the values in the list\n",
    "    if number < 0:     \n",
    "        break          #when number will be less than zero it will stop the loop\n",
    "    \n",
    "\n",
    "print(f\"The first negative integer in a the list is {number}\")"
   ]
  },
  {
   "cell_type": "code",
   "execution_count": 88,
   "metadata": {},
   "outputs": [
    {
     "name": "stdout",
     "output_type": "stream",
     "text": [
      "List of first five even numbers' sqaures: [4, 16, 36, 64, 100]\n"
     ]
    }
   ],
   "source": [
    "# first five even numbers' squares\n",
    "\n",
    "even_squares : list[int] = [ x**2 for x in range(1,11) if x % 2 == 0]\n",
    "print(f\"List of first five even numbers' sqaures: {even_squares}\")"
   ]
  },
  {
   "cell_type": "markdown",
   "metadata": {},
   "source": [
    "### The Zen of Python"
   ]
  },
  {
   "cell_type": "markdown",
   "metadata": {},
   "source": [
    "Python programmers embrace the notion that code can be beautiful \n",
    "and elegant. In programming, people solve problems. Programmers have \n",
    "always respected well-designed, efficient, and even beautiful solutions to \n",
    "problems. As you learn more about Python and use it to write more code, \n",
    "someone might look over your shoulder one day and say, “Wow, that’s some \n",
    "beautiful code!”"
   ]
  },
  {
   "cell_type": "markdown",
   "metadata": {},
   "source": [
    "### Try It Yourself\n"
   ]
  },
  {
   "cell_type": "markdown",
   "metadata": {},
   "source": [
    "2-11. Zen of Python: Enter import this into a Python terminal session and skim \n",
    "through the additional principles"
   ]
  },
  {
   "cell_type": "code",
   "execution_count": 91,
   "metadata": {},
   "outputs": [
    {
     "name": "stdout",
     "output_type": "stream",
     "text": [
      "The Zen of Python, by Tim Peters\n",
      "\n",
      "Beautiful is better than ugly.\n",
      "Explicit is better than implicit.\n",
      "Simple is better than complex.\n",
      "Complex is better than complicated.\n",
      "Flat is better than nested.\n",
      "Sparse is better than dense.\n",
      "Readability counts.\n",
      "Special cases aren't special enough to break the rules.\n",
      "Although practicality beats purity.\n",
      "Errors should never pass silently.\n",
      "Unless explicitly silenced.\n",
      "In the face of ambiguity, refuse the temptation to guess.\n",
      "There should be one-- and preferably only one --obvious way to do it.\n",
      "Although that way may not be obvious at first unless you're Dutch.\n",
      "Now is better than never.\n",
      "Although never is often better than *right* now.\n",
      "If the implementation is hard to explain, it's a bad idea.\n",
      "If the implementation is easy to explain, it may be a good idea.\n",
      "Namespaces are one honking great idea -- let's do more of those!\n"
     ]
    }
   ],
   "source": [
    "import this\n"
   ]
  },
  {
   "cell_type": "markdown",
   "metadata": {},
   "source": []
  }
 ],
 "metadata": {
  "kernelspec": {
   "display_name": "Python 3",
   "language": "python",
   "name": "python3"
  },
  "language_info": {
   "codemirror_mode": {
    "name": "ipython",
    "version": 3
   },
   "file_extension": ".py",
   "mimetype": "text/x-python",
   "name": "python",
   "nbconvert_exporter": "python",
   "pygments_lexer": "ipython3",
   "version": "3.10.2"
  }
 },
 "nbformat": 4,
 "nbformat_minor": 2
}
