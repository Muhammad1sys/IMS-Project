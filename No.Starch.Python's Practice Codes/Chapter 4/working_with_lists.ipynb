{
 "cells": [
  {
   "cell_type": "markdown",
   "metadata": {},
   "source": [
    "## Working with Lists"
   ]
  },
  {
   "cell_type": "markdown",
   "metadata": {},
   "source": [
    "### Looping Through an Entire List"
   ]
  },
  {
   "cell_type": "markdown",
   "metadata": {},
   "source": [
    "Let’s say we have a list of magicians’ names, and we want to print out \n",
    "each name in the list. We could do this by retrieving each name from the \n",
    "list individually, but this approach could cause several problems. For one, \n",
    "it would be repetitive to do this with a long list of names. Also, we’d have to \n",
    "change our code each time the list’s length changed. A for loop avoids both \n",
    "of these issues by letting Python manage these issues internally.\n",
    "Let’s use a for loop to print out each name in a list of magicians:"
   ]
  },
  {
   "cell_type": "code",
   "execution_count": 1,
   "metadata": {},
   "outputs": [
    {
     "name": "stdout",
     "output_type": "stream",
     "text": [
      "alice\n",
      "david\n",
      "carolina\n"
     ]
    }
   ],
   "source": [
    "# magicians.py\n",
    "\n",
    "magicians : list[str] = ['alice', 'david', 'carolina']\n",
    "for magician in magicians:\n",
    "    print(magician)"
   ]
  },
  {
   "cell_type": "markdown",
   "metadata": {},
   "source": [
    "+ When you’re using loops for the first time, keep in mind that the set of \n",
    "steps is repeated once for each item in the list, no matter how many items \n",
    "are in the list. If you have a million items in your list, Python repeats these \n",
    "steps a million times—and usually very quickly.\n",
    "+ Also keep in mind when writing your own for loops that you can choose \n",
    "any name you want for the temporary variable that holds each value in the \n",
    "list. However, it’s helpful to choose a meaningful name that represents a \n",
    "single item from the list. For example, here’s a good way to start a for loop \n",
    "+  for a list of cats, a list of dogs, and a general list of items:\n",
    "* for cat in cats:\n",
    "* for dog in dogs:\n",
    "* for item in list_of_items:"
   ]
  },
  {
   "cell_type": "markdown",
   "metadata": {},
   "source": [
    "**Doing More Work Within a for Loop**"
   ]
  },
  {
   "cell_type": "code",
   "execution_count": 2,
   "metadata": {},
   "outputs": [
    {
     "name": "stdout",
     "output_type": "stream",
     "text": [
      "Alice, that was a great trick!\n",
      "David, that was a great trick!\n",
      "Carolina, that was a great trick!\n"
     ]
    }
   ],
   "source": [
    "magicians : list[str] = ['alice', 'david', 'carolina']\n",
    "for magician in magicians:\n",
    "    print(magician.title() + \", that was a great trick!\")"
   ]
  },
  {
   "cell_type": "code",
   "execution_count": 4,
   "metadata": {},
   "outputs": [
    {
     "name": "stdout",
     "output_type": "stream",
     "text": [
      "Alice, that was a great trick!\n",
      "I can't wait to see your new trick Alice.\n",
      "\n",
      "David, that was a great trick!\n",
      "I can't wait to see your new trick David.\n",
      "\n",
      "Carolina, that was a great trick!\n",
      "I can't wait to see your new trick Carolina.\n",
      "\n"
     ]
    }
   ],
   "source": [
    "magicians : list[str] = ['alice', 'david', 'carolina']\n",
    "for magician in magicians:\n",
    "    print(magician.title() + \", that was a great trick!\")\n",
    "    print(\"I can't wait to see your new trick \" + magician.title() + \".\\n\" )"
   ]
  },
  {
   "cell_type": "markdown",
   "metadata": {},
   "source": [
    "#### Doing Something After a for Loop"
   ]
  },
  {
   "cell_type": "code",
   "execution_count": 6,
   "metadata": {},
   "outputs": [
    {
     "name": "stdout",
     "output_type": "stream",
     "text": [
      "Alice, that was a great trick!\n",
      "I can't wait to see your new trick Alice.\n",
      "\n",
      "David, that was a great trick!\n",
      "I can't wait to see your new trick David.\n",
      "\n",
      "Carolina, that was a great trick!\n",
      "I can't wait to see your new trick Carolina.\n",
      "\n",
      "Thank you every one. That was a great magic show!\n"
     ]
    }
   ],
   "source": [
    "magicians : list[str] = ['alice', 'david', 'carolina']\n",
    "for magician in magicians:\n",
    "    print(magician.title() + \", that was a great trick!\")\n",
    "    print(\"I can't wait to see your new trick \" + magician.title() + \".\\n\" )\n",
    "    \n",
    "print(\"Thank you every one. That was a great magic show!\")"
   ]
  },
  {
   "cell_type": "markdown",
   "metadata": {},
   "source": [
    "#### Avoiding Indentation Errors"
   ]
  },
  {
   "cell_type": "markdown",
   "metadata": {},
   "source": [
    "Python uses indentation to determine when one line of code is connected to \n",
    "the line above it. In the previous examples, the lines that printed messages to \n",
    "individual magicians were part of the for loop because they were indented. \n",
    "Python’s use of indentation makes code very easy to read."
   ]
  },
  {
   "cell_type": "markdown",
   "metadata": {},
   "source": [
    "As you begin to write code that relies on proper indentation, you’ll \n",
    "need to watch for a few common indentation errors. For example, people \n",
    "sometimes indent blocks of code that don’t need to be indented or forget \n",
    "to indent blocks that need to be indented. Seeing examples of these errors \n",
    "now will help you avoid them in the future and correct them when they do \n",
    "appear in your own programs.\n",
    "Let’s examine some of the more common indentation errors"
   ]
  },
  {
   "cell_type": "markdown",
   "metadata": {},
   "source": [
    "##### Forgetting to Indent"
   ]
  },
  {
   "cell_type": "markdown",
   "metadata": {},
   "source": [
    "Always indent the line after the for statement in a loop. If you forget, Python \n",
    "will remind you. The print statement at u should be indented, but it’s not. When Python \n",
    "expects an indented block and doesn’t find one, it lets you know which line \n",
    "it had a problem with:"
   ]
  },
  {
   "cell_type": "code",
   "execution_count": 8,
   "metadata": {},
   "outputs": [
    {
     "ename": "IndentationError",
     "evalue": "expected an indented block after 'for' statement on line 2 (3068885032.py, line 3)",
     "output_type": "error",
     "traceback": [
      "\u001b[1;36m  Cell \u001b[1;32mIn[8], line 3\u001b[1;36m\u001b[0m\n\u001b[1;33m    print(magician)\u001b[0m\n\u001b[1;37m    ^\u001b[0m\n\u001b[1;31mIndentationError\u001b[0m\u001b[1;31m:\u001b[0m expected an indented block after 'for' statement on line 2\n"
     ]
    }
   ],
   "source": [
    "magicians : list[str] = ['alice', 'david', 'carolina']\n",
    "for magician in magicians:\n",
    "print(magician)"
   ]
  },
  {
   "cell_type": "markdown",
   "metadata": {},
   "source": [
    "##### Forgetting to Indent Additional Lines"
   ]
  },
  {
   "cell_type": "markdown",
   "metadata": {},
   "source": [
    "Sometimes your loop will run without any errors but won’t produce the \n",
    "expected result. This can happen when you’re trying to do several tasks in \n",
    "a loop and you forget to indent some of its lines.\n",
    "For example, this is what happens when we forget to indent the second \n",
    "line in the loop that tells each magician we’re looking forward to their next \n",
    "trick:"
   ]
  },
  {
   "cell_type": "code",
   "execution_count": 9,
   "metadata": {},
   "outputs": [
    {
     "name": "stdout",
     "output_type": "stream",
     "text": [
      "Alice, that was a great trick!\n",
      "David, that was a great trick!\n",
      "Carolina, that was a great trick!\n",
      "I can't wait to see your new trick Carolina.\n",
      "\n"
     ]
    }
   ],
   "source": [
    "magicians : list[str] = ['alice', 'david', 'carolina']\n",
    "for magician in magicians:\n",
    "    print(magician.title() + \", that was a great trick!\")\n",
    "print(\"I can't wait to see your new trick \" + magician.title() + \".\\n\" )"
   ]
  },
  {
   "cell_type": "markdown",
   "metadata": {},
   "source": [
    "This is a logical error. The syntax is valid Python code, but the code does \n",
    "not produce the desired result because a problem occurs in its logic."
   ]
  },
  {
   "cell_type": "markdown",
   "metadata": {},
   "source": [
    "##### Indenting Unnecessarily"
   ]
  },
  {
   "cell_type": "markdown",
   "metadata": {},
   "source": [
    "If you accidentally indent a line that doesn’t need to be indented, Python \n",
    "informs you about the unexpected indent"
   ]
  },
  {
   "cell_type": "code",
   "execution_count": 10,
   "metadata": {},
   "outputs": [
    {
     "ename": "IndentationError",
     "evalue": "unexpected indent (3753597321.py, line 2)",
     "output_type": "error",
     "traceback": [
      "\u001b[1;36m  Cell \u001b[1;32mIn[10], line 2\u001b[1;36m\u001b[0m\n\u001b[1;33m    print(message)\u001b[0m\n\u001b[1;37m    ^\u001b[0m\n\u001b[1;31mIndentationError\u001b[0m\u001b[1;31m:\u001b[0m unexpected indent\n"
     ]
    }
   ],
   "source": [
    "message : str = \"Hello Python world!\"\n",
    "    print(message)"
   ]
  },
  {
   "cell_type": "markdown",
   "metadata": {},
   "source": [
    "You can avoid unexpected indentation errors by indenting only when \n",
    "you have a specific reason to do so. In the programs you’re writing at this \n",
    "point, the only lines you should indent are the actions you want to repeat \n",
    "for each item in a for loop"
   ]
  },
  {
   "cell_type": "markdown",
   "metadata": {},
   "source": [
    "##### Indenting Unnecessarily After the Loop"
   ]
  },
  {
   "cell_type": "code",
   "execution_count": 11,
   "metadata": {},
   "outputs": [
    {
     "name": "stdout",
     "output_type": "stream",
     "text": [
      "Alice, that was a great trick!\n",
      "I can't wait to see your new trick Alice.\n",
      "\n",
      "Thank you every one. That was a great magic show!\n",
      "David, that was a great trick!\n",
      "I can't wait to see your new trick David.\n",
      "\n",
      "Thank you every one. That was a great magic show!\n",
      "Carolina, that was a great trick!\n",
      "I can't wait to see your new trick Carolina.\n",
      "\n",
      "Thank you every one. That was a great magic show!\n"
     ]
    }
   ],
   "source": [
    "magicians : list[str] = ['alice', 'david', 'carolina']\n",
    "for magician in magicians:\n",
    "    print(magician.title() + \", that was a great trick!\")\n",
    "    print(\"I can't wait to see your new trick \" + magician.title() + \".\\n\" )\n",
    "    \n",
    "    print(\"Thank you every one. That was a great magic show!\")"
   ]
  },
  {
   "cell_type": "markdown",
   "metadata": {},
   "source": [
    "This is another logical error, similar to the one in “Forgetting to Indent \n",
    "Additional Lines” on page 58. Because Python doesn’t know what you’re \n",
    "trying to accomplish with your code, it will run all code that is written in \n",
    "valid syntax. If an action is repeated many times when it should be executed \n",
    "only once, determine whether you just need to unindent the code for that \n",
    "action"
   ]
  },
  {
   "cell_type": "markdown",
   "metadata": {},
   "source": [
    "##### Forgetting the Colon"
   ]
  },
  {
   "cell_type": "markdown",
   "metadata": {},
   "source": [
    "The colon at the end of a for statement tells Python to interpret the next \n",
    "line as the start of a loop. "
   ]
  },
  {
   "cell_type": "code",
   "execution_count": 12,
   "metadata": {},
   "outputs": [
    {
     "ename": "SyntaxError",
     "evalue": "expected ':' (957123748.py, line 2)",
     "output_type": "error",
     "traceback": [
      "\u001b[1;36m  Cell \u001b[1;32mIn[12], line 2\u001b[1;36m\u001b[0m\n\u001b[1;33m    for magician in magicians\u001b[0m\n\u001b[1;37m                             ^\u001b[0m\n\u001b[1;31mSyntaxError\u001b[0m\u001b[1;31m:\u001b[0m expected ':'\n"
     ]
    }
   ],
   "source": [
    "magicians : list[str] = ['alice', 'david', 'carolina']\n",
    "for magician in magicians\n",
    "    print(magician)"
   ]
  },
  {
   "cell_type": "markdown",
   "metadata": {},
   "source": [
    "##### Try It Yourself\n"
   ]
  },
  {
   "cell_type": "markdown",
   "metadata": {},
   "source": [
    "4-1. Pizzas: Think of at least three kinds of your favorite pizza. Store these \n",
    "pizza names in a list, and then use a for loop to print the name of each pizza.\n",
    "+\t Modify your for loop to print a sentence using the name of the pizza \n",
    "instead of printing just the name of the pizza. For each pizza you should \n",
    "have one line of output containing a simple statement like I like pepperoni \n",
    "pizza.\n",
    "+\t Add a line at the end of your program, outside the for loop, that states \n",
    "how much you like pizza. The output should consist of three or more lines \n",
    "about the kinds of pizza you like and then an additional sentence, such as \n",
    "I really love pizza!\n"
   ]
  },
  {
   "cell_type": "code",
   "execution_count": 15,
   "metadata": {},
   "outputs": [
    {
     "name": "stdout",
     "output_type": "stream",
     "text": [
      "I like Pepperoni pizza.\n",
      "I like Margherita pizza.\n",
      "I like BBQ Chicken pizza.\n",
      "\n",
      "I love pizza.\n",
      "Its my favorite food.\n",
      "I can eat it any time.\n",
      "\n",
      "\n",
      "I really love pizza!\n"
     ]
    }
   ],
   "source": [
    "pizzas: list[str] = [\"Pepperoni\", \"Margherita\", \"BBQ Chicken\"]\n",
    "\n",
    "for pizza in pizzas:\n",
    "    print(f'I like {pizza} pizza.')\n",
    "\n",
    "print(f'\\nI love pizza.\\nIts my favorite food.\\nI can eat it any time.\\n')\n",
    "print('\\nI really love pizza!')"
   ]
  },
  {
   "cell_type": "markdown",
   "metadata": {},
   "source": [
    "4-2. Animals: Think of at least three different animals that have a common characteristic. Store the names of these animals in a list, and then use a for loop to \n",
    "print out the name of each animal.\n",
    "+\t Modify your program to print a statement about each animal, such as \n",
    "A dog would make a great pet.\n",
    "+\t Add a line at the end of your program stating what these animals have in \n",
    "common. You could print a sentence such as Any of these animals would \n",
    "make a great pet!\n"
   ]
  },
  {
   "cell_type": "code",
   "execution_count": 19,
   "metadata": {},
   "outputs": [
    {
     "name": "stdout",
     "output_type": "stream",
     "text": [
      "A dog would make a great pet.\n",
      "A cat would make a great pet.\n",
      "A rabbit would make a great pet.\n",
      "\n",
      "Any of these animals would make a great pet!\n"
     ]
    }
   ],
   "source": [
    "animals: list[str] = [\"Dog\", \"Cat\", \"Rabbit\"]\n",
    "\n",
    "for animal in animals:\n",
    "    print(f'A {animal.lower()} would make a great pet.')\n",
    "    \n",
    "print('\\nAny of these animals would make a great pet!')"
   ]
  },
  {
   "cell_type": "markdown",
   "metadata": {},
   "source": [
    "#### Making Numerical Lists"
   ]
  },
  {
   "cell_type": "markdown",
   "metadata": {},
   "source": [
    "Lists are ideal for storing sets of numbers, and Python provides a number of tools to help you work efficiently with lists of numbers. Once you \n",
    "understand how to use these tools effectively, your code will work well even \n",
    "when your lists contain millions of items"
   ]
  },
  {
   "cell_type": "markdown",
   "metadata": {},
   "source": [
    "##### Using the range() Function"
   ]
  },
  {
   "cell_type": "markdown",
   "metadata": {},
   "source": [
    "Python’s range() function makes it easy to generate a series of numbers. \n",
    "For example, you can use the range() function to print a series of numbers \n",
    "like this:"
   ]
  },
  {
   "cell_type": "code",
   "execution_count": 21,
   "metadata": {},
   "outputs": [
    {
     "name": "stdout",
     "output_type": "stream",
     "text": [
      "1\n",
      "2\n",
      "3\n",
      "4\n"
     ]
    }
   ],
   "source": [
    "for value in range(1,5):\n",
    "    print(value)"
   ]
  },
  {
   "cell_type": "markdown",
   "metadata": {},
   "source": [
    "In this example, range() prints only the numbers 1 through 4. This is \n",
    "another result of the off-by-one behavior you’ll see often in programming \n",
    "languages"
   ]
  },
  {
   "cell_type": "code",
   "execution_count": 22,
   "metadata": {},
   "outputs": [
    {
     "name": "stdout",
     "output_type": "stream",
     "text": [
      "1\n",
      "2\n",
      "3\n",
      "4\n",
      "5\n"
     ]
    }
   ],
   "source": [
    "for value in range(1,6):\n",
    "    print(value)"
   ]
  },
  {
   "cell_type": "markdown",
   "metadata": {},
   "source": [
    "##### Using range() to Make a List of Numbers"
   ]
  },
  {
   "cell_type": "markdown",
   "metadata": {},
   "source": [
    "If you want to make a list of numbers, you can convert the results of range()\n",
    "directly into a list using the list() function. When you wrap list() around a \n",
    "call to the range() function, the output will be a list of numbers.\n",
    "In the example in the previous section, we simply printed out a series of \n",
    "numbers. We can use list() to convert that same set of numbers into a list"
   ]
  },
  {
   "cell_type": "code",
   "execution_count": 23,
   "metadata": {},
   "outputs": [
    {
     "name": "stdout",
     "output_type": "stream",
     "text": [
      "[1, 2, 3, 4, 5]\n"
     ]
    }
   ],
   "source": [
    "numbers : list[int] = list(range(1,6))\n",
    "print(numbers)"
   ]
  },
  {
   "cell_type": "markdown",
   "metadata": {},
   "source": [
    "We can also use the range() function to tell Python to skip numbers \n",
    "in a given range. For example, here’s how we would list the even numbers \n",
    "between 1 and 10"
   ]
  },
  {
   "cell_type": "code",
   "execution_count": 25,
   "metadata": {},
   "outputs": [
    {
     "name": "stdout",
     "output_type": "stream",
     "text": [
      "[2, 4, 6, 8, 10]\n"
     ]
    }
   ],
   "source": [
    "# even_numbers.py\n",
    "\n",
    "numbers : list[int] = list(range(2,11,2))\n",
    "print(numbers)"
   ]
  },
  {
   "cell_type": "markdown",
   "metadata": {},
   "source": [
    "You can create almost any set of numbers you want to using the range()\n",
    "function. For example, consider how you might make a list of the first 10 \n",
    "square numbers (that is, the square of each integer from 1 through 10). In \n",
    "Python, two asterisks (**) represent exponents. Here’s how you might put \n",
    "the first 10 square numbers into a list"
   ]
  },
  {
   "cell_type": "code",
   "execution_count": 27,
   "metadata": {},
   "outputs": [
    {
     "name": "stdout",
     "output_type": "stream",
     "text": [
      "[1, 4, 9, 16, 25, 36, 49, 64, 81, 100]\n"
     ]
    }
   ],
   "source": [
    "squares : list[int] = []\n",
    "\n",
    "for value in range(1,11):\n",
    "    square : int = value ** 2\n",
    "    squares.append(square)\n",
    "    \n",
    "print(squares)"
   ]
  },
  {
   "cell_type": "markdown",
   "metadata": {},
   "source": [
    "To write this code more concisely, omit the temporary variable square\n",
    "and append each new value directly to the list:"
   ]
  },
  {
   "cell_type": "code",
   "execution_count": 28,
   "metadata": {},
   "outputs": [
    {
     "name": "stdout",
     "output_type": "stream",
     "text": [
      "[1, 4, 9, 16, 25, 36, 49, 64, 81, 100]\n"
     ]
    }
   ],
   "source": [
    "squares : list[int] = []\n",
    "\n",
    "for value in range(1,11):\n",
    "    squares.append(value ** 2)\n",
    "    \n",
    "print(squares)"
   ]
  },
  {
   "cell_type": "markdown",
   "metadata": {},
   "source": [
    "##### Simple Statistics with a List of Numbers"
   ]
  },
  {
   "cell_type": "markdown",
   "metadata": {},
   "source": [
    "A few Python functions are specific to lists of numbers. For example, you \n",
    "can easily find the minimum, maximum, and sum of a list of numbers"
   ]
  },
  {
   "cell_type": "code",
   "execution_count": 34,
   "metadata": {},
   "outputs": [
    {
     "name": "stdout",
     "output_type": "stream",
     "text": [
      "Sum of digits in the list:  45\n",
      "Minimum value in the list:  0\n",
      "Maximum value in the list:  9\n"
     ]
    }
   ],
   "source": [
    "numbers : list[int] = [1,2,3,4,5,6,7,8,9,0]\n",
    "\n",
    "print(\"Sum of digits in the list: \", sum(numbers))\n",
    "print(\"Minimum value in the list: \", min(numbers))\n",
    "print(\"Maximum value in the list: \", max(numbers))"
   ]
  },
  {
   "cell_type": "markdown",
   "metadata": {},
   "source": [
    "##### List Comprehensions"
   ]
  },
  {
   "cell_type": "markdown",
   "metadata": {},
   "source": [
    " A list comprehension combines the \n",
    "for loop and the creation of new elements into one line, and automatically \n",
    "appends each new element. List comprehensions are not always presented \n",
    "to beginners, but I have included them here because you’ll most likely see \n",
    "them as soon as you start looking at other people’s code.\n",
    "The following example builds the same list of square numbers you saw \n",
    "earlier but uses a list comprehension"
   ]
  },
  {
   "cell_type": "code",
   "execution_count": 37,
   "metadata": {},
   "outputs": [
    {
     "name": "stdout",
     "output_type": "stream",
     "text": [
      "[1, 4, 9, 16, 25, 36, 49, 64, 81, 100]\n"
     ]
    }
   ],
   "source": [
    "# squares.py\n",
    "squares : list[int] = [value ** 2 for value in range(1,11)]\n",
    "print(squares)"
   ]
  },
  {
   "cell_type": "markdown",
   "metadata": {},
   "source": [
    "#### Try it Yourself"
   ]
  },
  {
   "cell_type": "markdown",
   "metadata": {},
   "source": [
    "4-3. Counting to Twenty: Use a for loop to print the numbers from 1 to 20, \n",
    "inclusive."
   ]
  },
  {
   "cell_type": "code",
   "execution_count": 38,
   "metadata": {},
   "outputs": [
    {
     "name": "stdout",
     "output_type": "stream",
     "text": [
      "1\n",
      "2\n",
      "3\n",
      "4\n",
      "5\n",
      "6\n",
      "7\n",
      "8\n",
      "9\n",
      "10\n",
      "11\n",
      "12\n",
      "13\n",
      "14\n",
      "15\n",
      "16\n",
      "17\n",
      "18\n",
      "19\n",
      "20\n"
     ]
    }
   ],
   "source": [
    "for value in range(1,21):\n",
    "    print(value)"
   ]
  },
  {
   "cell_type": "markdown",
   "metadata": {},
   "source": [
    "4-4. One Million: Make a list of the numbers from one to one million, and then \n",
    "use a for loop to print the numbers. (If the output is taking too long, stop it by \n",
    "pressing ctrl-C or by closing the output window.)"
   ]
  },
  {
   "cell_type": "code",
   "execution_count": 45,
   "metadata": {},
   "outputs": [
    {
     "name": "stdout",
     "output_type": "stream",
     "text": [
      "First ten numbers:  [2, 3, 4, 5, 6, 7, 8, 9, 10, 11]\n",
      "Last ten numbers:  [999990, 999991, 999992, 999993, 999994, 999995, 999996, 999997, 999998, 999999, 1000000]\n"
     ]
    },
    {
     "data": {
      "text/plain": [
       "' OR\\nnumbers : list[int] = []\\nfor number in range(1,1000001):\\n    numbers.append(number)\\n\\nprint(numbers)\\n'"
      ]
     },
     "execution_count": 45,
     "metadata": {},
     "output_type": "execute_result"
    }
   ],
   "source": [
    "numbers : list[int] = list(range(1,1000001))\n",
    "\n",
    "print(\"First ten numbers: \", numbers[1:11])\n",
    "print(\"Last ten numbers: \", numbers[-11:])\n",
    "\n",
    "''' OR\n",
    "numbers : list[int] = []\n",
    "for number in range(1,1000001):\n",
    "    numbers.append(number)\n",
    "\n",
    "print(numbers)\n",
    "'''"
   ]
  },
  {
   "cell_type": "markdown",
   "metadata": {},
   "source": [
    "4-5. Summing a Million: Make a list of the numbers from one to one million, \n",
    "and then use min() and max() to make sure your list actually starts at one and \n",
    "ends at one million. Also, use the sum() function to see how quickly Python can \n",
    "add a million numbers."
   ]
  },
  {
   "cell_type": "code",
   "execution_count": 46,
   "metadata": {},
   "outputs": [
    {
     "name": "stdout",
     "output_type": "stream",
     "text": [
      "Minimum value in the list:  1\n",
      "Maximum value in the list:  1000000\n"
     ]
    }
   ],
   "source": [
    "numbers : list[int] = list(range(1,1000001))\n",
    "\n",
    "print(\"Minimum value in the list: \", min(numbers))\n",
    "print(\"Maximum value in the list: \", max(numbers))"
   ]
  },
  {
   "cell_type": "markdown",
   "metadata": {},
   "source": [
    "4-6. Odd Numbers: Use the third argument of the range() function to make a list \n",
    "of the odd numbers from 1 to 20. Use a for loop to print each number."
   ]
  },
  {
   "cell_type": "code",
   "execution_count": 47,
   "metadata": {},
   "outputs": [
    {
     "name": "stdout",
     "output_type": "stream",
     "text": [
      "[1, 3, 5, 7, 9, 11, 13, 15, 17, 19]\n"
     ]
    }
   ],
   "source": [
    "odd_numbers : list[int] = []\n",
    "\n",
    "for number in range(1,20,2):\n",
    "    odd_numbers.append(number)\n",
    "\n",
    "print(odd_numbers)"
   ]
  },
  {
   "cell_type": "markdown",
   "metadata": {},
   "source": [
    "4-7. Threes: Make a list of the multiples of 3 from 3 to 30. Use a for loop to \n",
    "print the numbers in your list"
   ]
  },
  {
   "cell_type": "code",
   "execution_count": 49,
   "metadata": {},
   "outputs": [
    {
     "name": "stdout",
     "output_type": "stream",
     "text": [
      "[3, 6, 9, 12, 15, 18, 21, 24, 27, 30]\n"
     ]
    }
   ],
   "source": [
    "three_multiples : list[int] = list( value * 3 for value in range(1,11))\n",
    "print(three_multiples) "
   ]
  },
  {
   "cell_type": "markdown",
   "metadata": {},
   "source": [
    "4-8. Cubes: A number raised to the third power is called a cube. For example, \n",
    "the cube of 2 is written as 2**3 in Python. Make a list of the first 10 cubes (that \n",
    "is, the cube of each integer from 1 through 10), and use a for loop to print out \n",
    "the value of each cube."
   ]
  },
  {
   "cell_type": "code",
   "execution_count": 50,
   "metadata": {},
   "outputs": [
    {
     "name": "stdout",
     "output_type": "stream",
     "text": [
      "Cube of first 10 integers:  [1, 8, 27, 64, 125, 216, 343, 512, 729, 1000]\n"
     ]
    }
   ],
   "source": [
    "cubes : list[int] = list( value ** 3 for value in range(1,11))\n",
    "print(\"Cube of first 10 integers: \", cubes)"
   ]
  },
  {
   "cell_type": "markdown",
   "metadata": {},
   "source": [
    "4-9. Cube Comprehension: Use a list comprehension to generate a list of the \n",
    "first 10 cubes."
   ]
  },
  {
   "cell_type": "code",
   "execution_count": 51,
   "metadata": {},
   "outputs": [
    {
     "name": "stdout",
     "output_type": "stream",
     "text": [
      "Cube of first 10 integers:  [1, 8, 27, 64, 125, 216, 343, 512, 729, 1000]\n"
     ]
    }
   ],
   "source": [
    "cubes : list[int] = list( value ** 3 for value in range(1,11))\n",
    "print(\"Cube of first 10 integers: \", cubes)"
   ]
  },
  {
   "cell_type": "markdown",
   "metadata": {},
   "source": [
    "### Working with Part of a List"
   ]
  },
  {
   "cell_type": "markdown",
   "metadata": {},
   "source": [
    "#### Slicing a List"
   ]
  },
  {
   "cell_type": "markdown",
   "metadata": {},
   "source": [
    "To make a slice, you specify the index of the first and last elements you \n",
    "want to work with. As with the range() function, Python stops one item \n",
    "before the second index you specify. To output the first three elements \n",
    "in a list, you would request indices 0 through 3, which would return elements 0, 1, and 2."
   ]
  },
  {
   "cell_type": "markdown",
   "metadata": {},
   "source": [
    "The following example involves a list of players on a team:"
   ]
  },
  {
   "cell_type": "code",
   "execution_count": 52,
   "metadata": {},
   "outputs": [
    {
     "name": "stdout",
     "output_type": "stream",
     "text": [
      "['charles', 'martine', 'michael']\n"
     ]
    }
   ],
   "source": [
    "# players.py\n",
    "\n",
    "players : list[str] = ['charles','martine','michael','florance','eli']\n",
    "print(players[0:3])"
   ]
  },
  {
   "cell_type": "code",
   "execution_count": 54,
   "metadata": {},
   "outputs": [
    {
     "name": "stdout",
     "output_type": "stream",
     "text": [
      "['martine', 'michael', 'florance']\n"
     ]
    }
   ],
   "source": [
    "players : list[str] = ['charles','martine','michael','florance','eli']\n",
    "print(players[1:4])"
   ]
  },
  {
   "cell_type": "markdown",
   "metadata": {},
   "source": [
    "If you omit the first index in a slice, Python automatically starts your \n",
    "slice at the beginning of the list:"
   ]
  },
  {
   "cell_type": "code",
   "execution_count": 53,
   "metadata": {},
   "outputs": [
    {
     "name": "stdout",
     "output_type": "stream",
     "text": [
      "['charles', 'martine', 'michael']\n"
     ]
    }
   ],
   "source": [
    "players : list[str] = ['charles','martine','michael','florance','eli']\n",
    "print(players[:3])"
   ]
  },
  {
   "cell_type": "markdown",
   "metadata": {},
   "source": [
    "A similar syntax works if you want a slice that includes the end of a list. \n",
    "For example, if you want all items from the third item through the last item, \n",
    "you can start with index 2 and omit the second index:"
   ]
  },
  {
   "cell_type": "code",
   "execution_count": 55,
   "metadata": {},
   "outputs": [
    {
     "name": "stdout",
     "output_type": "stream",
     "text": [
      "['michael', 'florance', 'eli']\n"
     ]
    }
   ],
   "source": [
    "players : list[str] = ['charles','martine','michael','florance','eli']\n",
    "print(players[2:])"
   ]
  },
  {
   "cell_type": "markdown",
   "metadata": {},
   "source": [
    "Recall that a negative index returns an element a certain distance from the end of a list; \n",
    "therefore, you can output any slice from the end of a list."
   ]
  },
  {
   "cell_type": "code",
   "execution_count": 56,
   "metadata": {},
   "outputs": [
    {
     "name": "stdout",
     "output_type": "stream",
     "text": [
      "['michael', 'florance', 'eli']\n"
     ]
    }
   ],
   "source": [
    "players : list[str] = ['charles','martine','michael','florance','eli']\n",
    "print(players[-3:])"
   ]
  },
  {
   "cell_type": "markdown",
   "metadata": {},
   "source": [
    "#### Looping Through a Slice"
   ]
  },
  {
   "cell_type": "markdown",
   "metadata": {},
   "source": [
    "You can use a slice in a for loop if you want to loop through a subset of \n",
    "the elements in a list. In the next example we loop through the first three \n",
    "players and print their names as part of a simple roster:"
   ]
  },
  {
   "cell_type": "code",
   "execution_count": 58,
   "metadata": {},
   "outputs": [
    {
     "name": "stdout",
     "output_type": "stream",
     "text": [
      "Here is the list of first three players on my team:\n",
      "Charles\n",
      "Martine\n",
      "Michael\n"
     ]
    }
   ],
   "source": [
    "players : list[str] = ['charles','martine','michael','florance','eli']\n",
    "print(\"Here is the list of first three players on my team:\")\n",
    "\n",
    "for player in players[:3]:\n",
    "    print(player.title())"
   ]
  },
  {
   "cell_type": "markdown",
   "metadata": {},
   "source": [
    "#### Copying a List"
   ]
  },
  {
   "cell_type": "markdown",
   "metadata": {},
   "source": [
    "To copy a list, you can make a slice that includes the entire original list \n",
    "by omitting the first index and the second index ([:]). This tells Python to \n",
    "make a slice that starts at the first item and ends with the last item, produc\u0002ing a copy of the entire list."
   ]
  },
  {
   "cell_type": "code",
   "execution_count": 60,
   "metadata": {},
   "outputs": [
    {
     "name": "stdout",
     "output_type": "stream",
     "text": [
      "My favorite food are:\n",
      "['pizza', 'falafel', 'carrot cake']\n",
      "\n",
      "My friend's favorite food are:\n",
      "['pizza', 'falafel', 'carrot cake']\n"
     ]
    }
   ],
   "source": [
    "# foods.py\n",
    "\n",
    "my_foods :list[str] = ['pizza','falafel','carrot cake']\n",
    "friend_foods = my_foods[:]\n",
    "\n",
    "print('My favorite food are:')\n",
    "print(my_foods)\n",
    "\n",
    "print(\"\\nMy friend's favorite food are:\")\n",
    "print(friend_foods)"
   ]
  },
  {
   "cell_type": "markdown",
   "metadata": {},
   "source": [
    "To prove that we actually have two separate lists, we’ll add a new food \n",
    "to each list and show that each list keeps track of the appropriate person’s \n",
    "favorite foods:"
   ]
  },
  {
   "cell_type": "code",
   "execution_count": 62,
   "metadata": {},
   "outputs": [
    {
     "name": "stdout",
     "output_type": "stream",
     "text": [
      "My favorite food are:\n",
      "['pizza', 'falafel', 'carrot cake', 'cannoli']\n",
      "\n",
      "My friend's favorite food are:\n",
      "['pizza', 'falafel', 'carrot cake', 'ice cream']\n"
     ]
    }
   ],
   "source": [
    "# foods.py\n",
    "\n",
    "my_foods :list[str] = ['pizza','falafel','carrot cake']\n",
    "friend_foods = my_foods[:]\n",
    "\n",
    "my_foods.append('cannoli')\n",
    "friend_foods.append(\"ice cream\")\n",
    "\n",
    "print('My favorite food are:')\n",
    "print(my_foods)\n",
    "\n",
    "print(\"\\nMy friend's favorite food are:\")\n",
    "print(friend_foods)"
   ]
  },
  {
   "cell_type": "markdown",
   "metadata": {},
   "source": [
    "If we had simply set friend_foods\n",
    "equal to my_foods, we would not produce two separate lists. For example, \n",
    "here’s what happens when you try to copy a list without using a slice:"
   ]
  },
  {
   "cell_type": "code",
   "execution_count": 63,
   "metadata": {},
   "outputs": [
    {
     "name": "stdout",
     "output_type": "stream",
     "text": [
      "My favorite food are:\n",
      "['pizza', 'falafel', 'carrot cake', 'cannoli', 'ice cream']\n",
      "\n",
      "My friend's favorite food are:\n",
      "['pizza', 'falafel', 'carrot cake', 'cannoli', 'ice cream']\n"
     ]
    }
   ],
   "source": [
    "# foods.py\n",
    "\n",
    "my_foods :list[str] = ['pizza','falafel','carrot cake']\n",
    "\n",
    "#this doesn't works\n",
    "friend_foods = my_foods\n",
    "\n",
    "my_foods.append('cannoli')\n",
    "friend_foods.append(\"ice cream\")\n",
    "\n",
    "print('My favorite food are:')\n",
    "print(my_foods)\n",
    "\n",
    "print(\"\\nMy friend's favorite food are:\")\n",
    "print(friend_foods)"
   ]
  },
  {
   "cell_type": "markdown",
   "metadata": {},
   "source": [
    "#### Try it Yourself"
   ]
  },
  {
   "cell_type": "markdown",
   "metadata": {},
   "source": [
    "\n",
    "4-10. Slices: Using one of the programs you wrote in this chapter, add several \n",
    "lines to the end of the program that do the following:\n",
    "+\t Print the message, The first three items in the list are:. Then use a slice to \n",
    "print the first three items from that program’s list.\n",
    "+\t Print the message, Three items from the middle of the list are:. Use a slice \n",
    "to print three items from the middle of the list.\n",
    "+\t Print the message, The last three items in the list are:. Use a slice to print \n",
    "the last three items in the list.\n"
   ]
  },
  {
   "cell_type": "code",
   "execution_count": 66,
   "metadata": {},
   "outputs": [
    {
     "name": "stdout",
     "output_type": "stream",
     "text": [
      "Here is the list of first three players on my team: ['charles', 'martine', 'michael']\n",
      "Here is the list of middle three players on my team: ['martine', 'michael', 'florance']\n",
      "Here is the list of last three players on my team: ['michael', 'florance', 'eli']\n"
     ]
    }
   ],
   "source": [
    "players : list[str] = ['charles','martine','michael','florance','eli']\n",
    "\n",
    "print(\"Here is the list of first three players on my team:\", players[:3])\n",
    "print(\"Here is the list of middle three players on my team:\", players[1:4])\n",
    "print(\"Here is the list of last three players on my team:\", players[-3:])"
   ]
  },
  {
   "cell_type": "markdown",
   "metadata": {},
   "source": [
    "4-11. My Pizzas, Your Pizzas: Start with your program from Exercise 4-1 \n",
    "(page 60). Make a copy of the list of pizzas, and call it friend_pizzas.\n",
    "Then, do the following:\n",
    "+\t Add a new pizza to the original list.\n",
    "+\t Add a different pizza to the list friend_pizzas.\n",
    "+\t Prove that you have two separate lists. Print the message, My favorite \n",
    "pizzas are:, and then use a for loop to print the first list. Print the message, \n",
    "My friend’s favorite pizzas are:, and then use a for loop to print the second list. Make sure each new pizza is stored in the appropriate list."
   ]
  },
  {
   "cell_type": "code",
   "execution_count": 68,
   "metadata": {},
   "outputs": [
    {
     "name": "stdout",
     "output_type": "stream",
     "text": [
      "My favorite pizzas are:\n",
      "Pepperoni\n",
      "Margherita\n",
      "BBQ Chicken\n",
      "Mashroom\n",
      "\n",
      "My friend's favorite pizzas are:\n",
      "Pepperoni\n",
      "Margherita\n",
      "BBQ Chicken\n",
      "Beef\n"
     ]
    }
   ],
   "source": [
    "my_pizzas: list[str] = [\"Pepperoni\", \"Margherita\", \"BBQ Chicken\"]\n",
    "friend_pizzas = my_pizzas[:]\n",
    "\n",
    "my_pizzas.append('Mashroom')\n",
    "friend_pizzas.append('Beef')\n",
    "\n",
    "print('My favorite pizzas are:')\n",
    "for pizza in my_pizzas:\n",
    "    print(pizza)\n",
    "\n",
    "\n",
    "print(\"\\nMy friend's favorite pizzas are:\")\n",
    "for pizza in friend_pizzas:\n",
    "    print(pizza)\n"
   ]
  },
  {
   "cell_type": "markdown",
   "metadata": {},
   "source": [
    "4-12. More Loops: All versions of foods.py in this section have avoided using \n",
    "for loops when printing to save space. Choose a version of foods.py, and \n",
    "write two for loops to print each list of foods."
   ]
  },
  {
   "cell_type": "code",
   "execution_count": 69,
   "metadata": {},
   "outputs": [
    {
     "name": "stdout",
     "output_type": "stream",
     "text": [
      "My favorite food are:\n",
      "pizza\n",
      "falafel\n",
      "carrot cake\n",
      "\n",
      "My friend's favorite food are:\n",
      "pizza\n",
      "falafel\n",
      "carrot cake\n"
     ]
    }
   ],
   "source": [
    "# foods.py\n",
    "\n",
    "my_foods :list[str] = ['pizza','falafel','carrot cake']\n",
    "friend_foods = my_foods[:]\n",
    "\n",
    "print('My favorite food are:')\n",
    "for food in my_foods:\n",
    "    print(food)\n",
    "\n",
    "print(\"\\nMy friend's favorite food are:\")\n",
    "for food in friend_foods:\n",
    "    print(food)"
   ]
  },
  {
   "cell_type": "markdown",
   "metadata": {},
   "source": [
    "## Tuples"
   ]
  },
  {
   "cell_type": "markdown",
   "metadata": {},
   "source": [
    "Lists work well for storing sets of items that can change throughout the \n",
    "life of a program. The ability to modify lists is particularly important when \n",
    "you’re working with a list of users on a website or a list of characters in a \n",
    "game. However, sometimes you’ll want to create a list of items that cannot \n",
    "change. Tuples allow you to do just that. Python refers to values that cannot \n",
    "change as immutable, and an immutable list is called a tuple"
   ]
  },
  {
   "cell_type": "markdown",
   "metadata": {},
   "source": [
    "#### Defining a Tuple\n"
   ]
  },
  {
   "cell_type": "markdown",
   "metadata": {},
   "source": [
    "A tuple looks just like a list except you use parentheses instead of square \n",
    "brackets. Once you define a tuple, you can access individual elements by \n",
    "using each item’s index, just as you would for a list.\n"
   ]
  },
  {
   "cell_type": "code",
   "execution_count": 72,
   "metadata": {},
   "outputs": [
    {
     "name": "stdout",
     "output_type": "stream",
     "text": [
      "200\n",
      "50\n"
     ]
    }
   ],
   "source": [
    "dimensions : tuple[int, int] = (200,50)\n",
    "for dimension in dimensions:\n",
    "    print(dimension)"
   ]
  },
  {
   "cell_type": "markdown",
   "metadata": {},
   "source": [
    "#### Writing over a Tuple\n",
    "\n"
   ]
  },
  {
   "cell_type": "markdown",
   "metadata": {},
   "source": [
    "Although you can’t modify a tuple, you can assign a new value to a variable \n",
    "that holds a tuple. So if we wanted to change our dimensions, we could \n",
    "redefine the entire tuple:"
   ]
  },
  {
   "cell_type": "code",
   "execution_count": 73,
   "metadata": {},
   "outputs": [
    {
     "name": "stdout",
     "output_type": "stream",
     "text": [
      "Orignal dimensions:\n",
      "200\n",
      "50\n",
      "\n",
      "Modified dimensions:\n",
      "400\n",
      "100\n"
     ]
    }
   ],
   "source": [
    "dimensions : tuple[int, int] = (200,50)\n",
    "print('Orignal dimensions:')\n",
    "for dimension in dimensions:\n",
    "    print(dimension)\n",
    "    \n",
    "dimensions : tuple[int,...] = (400,100)\n",
    "print(\"\\nModified dimensions:\")\n",
    "for dimension in dimensions:\n",
    "    print(dimension)"
   ]
  },
  {
   "cell_type": "markdown",
   "metadata": {},
   "source": [
    "When compared with lists, tuples are simple data structures. Use them \n",
    "when you want to store a set of values that should not be changed through\u0002out the life of a program."
   ]
  },
  {
   "cell_type": "markdown",
   "metadata": {},
   "source": [
    "#### Try it Yourself"
   ]
  },
  {
   "cell_type": "markdown",
   "metadata": {},
   "source": [
    "4-13. Buffet: A buffet-style restaurant offers only five basic foods. Think of five \n",
    "simple foods, and store them in a tuple.\n",
    "+\t Use a for loop to print each food the restaurant offers.\n",
    "+\t Try to modify one of the items, and make sure that Python rejects the \n",
    "change.\n",
    "+\t The restaurant changes its menu, replacing two of the items with different \n",
    "foods. Add a block of code that rewrites the tuple, and then use a for\n",
    "loop to print each of the items on the revised menu.\n"
   ]
  },
  {
   "cell_type": "code",
   "execution_count": 75,
   "metadata": {},
   "outputs": [
    {
     "name": "stdout",
     "output_type": "stream",
     "text": [
      "Our resturant offers the following foods:\n",
      "Pizza\n",
      "Pasta\n",
      "Salad\n",
      "Soup\n",
      "Bread\n"
     ]
    },
    {
     "ename": "TypeError",
     "evalue": "'tuple' object does not support item assignment",
     "output_type": "error",
     "traceback": [
      "\u001b[1;31m---------------------------------------------------------------------------\u001b[0m",
      "\u001b[1;31mTypeError\u001b[0m                                 Traceback (most recent call last)",
      "Cell \u001b[1;32mIn[75], line 6\u001b[0m\n\u001b[0;32m      3\u001b[0m \u001b[38;5;28;01mfor\u001b[39;00m food \u001b[38;5;129;01min\u001b[39;00m foods:\n\u001b[0;32m      4\u001b[0m     \u001b[38;5;28mprint\u001b[39m(food)\n\u001b[1;32m----> 6\u001b[0m \u001b[43mfoods\u001b[49m\u001b[43m[\u001b[49m\u001b[38;5;241;43m1\u001b[39;49m\u001b[43m]\u001b[49m\u001b[38;5;241m=\u001b[39m\u001b[38;5;124m\"\u001b[39m\u001b[38;5;124msushi\u001b[39m\u001b[38;5;124m\"\u001b[39m\n",
      "\u001b[1;31mTypeError\u001b[0m: 'tuple' object does not support item assignment"
     ]
    }
   ],
   "source": [
    "foods : tuple[str, ...] = (\"Pizza\", \"Pasta\", \"Salad\", \"Soup\", \"Bread\")\n",
    "print(\"Our resturant offers the following foods:\")\n",
    "for food in foods:\n",
    "    print(food)\n",
    "    \n",
    "foods[1]=\"sushi\""
   ]
  },
  {
   "cell_type": "code",
   "execution_count": 77,
   "metadata": {},
   "outputs": [
    {
     "name": "stdout",
     "output_type": "stream",
     "text": [
      "Our resturant offers the following foods:\n",
      "Pizza\n",
      "Pasta\n",
      "Salad\n",
      "Soup\n",
      "Bread\n",
      "\n",
      "Our resturant offers the following new foods:\n",
      "Sushi\n",
      "Pasta\n",
      "Salad\n",
      "Steak\n",
      "Dessert\n"
     ]
    }
   ],
   "source": [
    "foods : tuple[str, ...] = (\"Pizza\", \"Pasta\", \"Salad\", \"Soup\", \"Bread\")\n",
    "print(\"Our resturant offers the following foods:\")\n",
    "for food in foods:\n",
    "    print(food)\n",
    "    \n",
    "    \n",
    "foods : tuple[str, ...] = (\"Sushi\", \"Pasta\", \"Salad\", \"Steak\", \"Dessert\")\n",
    "print(\"\\nOur resturant offers the following new foods:\")\n",
    "for food in foods:\n",
    "    print(food)"
   ]
  },
  {
   "cell_type": "markdown",
   "metadata": {},
   "source": [
    "## Styling Your Code"
   ]
  },
  {
   "cell_type": "markdown",
   "metadata": {},
   "source": [
    "Python programmers have agreed on a number of styling conven\u0002tions to ensure that everyone’s code is structured in roughly the same way. \n",
    "Once you’ve learned to write clean Python code, you should be able to \n",
    "understand the overall structure of anyone else’s Python code, as long as \n",
    "they follow the same guidelines. If you’re hoping to become a professional \n",
    "programmer at some point, you should begin following these guidelines as \n",
    "soon as possible to develop good habits"
   ]
  },
  {
   "cell_type": "markdown",
   "metadata": {},
   "source": [
    "### The Style Guide\n",
    "\n",
    "+ When someone wants to make a change to the Python language, they write \n",
    "a Python Enhancement Proposal (PEP). One of the oldest PEPs is PEP 8, which \n",
    "instructs Python programmers on how to style their code. PEP 8 is fairly \n",
    "lengthy, but much of it relates to more complex coding structures than \n",
    "what you’ve seen so far.\n",
    "+ The Python style guide was written with the understanding that code \n",
    "is read more often than it is written. You’ll write your code once and then \n",
    "start reading it as you begin debugging. When you add features to a program, you’ll spend more time reading your code. When you share your \n",
    "code with other programmers, they’ll read your code as well."
   ]
  },
  {
   "cell_type": "markdown",
   "metadata": {},
   "source": [
    "### PEP 8 - The Style Guide for Python Code\n",
    "\n",
    "PEP 8 is the official style guide for Python code. It provides conventions for writing readable, consistent, and maintainable code. Some key points include:\n",
    "\n",
    "- **Indentation**: Use 4 spaces per indentation level.\n",
    "- **Line Length**: Limit lines to 79 characters.\n",
    "- **Blank Lines**: Use blank lines to separate functions and classes, and to separate sections within a function.\n",
    "- **Imports**: Place all imports at the top of the file and group them in the following order: standard library imports, related third-party imports, and local application/library-specific imports.\n",
    "- **Naming Conventions**: Use `snake_case` for variables and function names, `CamelCase` for class names, and `UPPERCASE` for constants.\n",
    "\n",
    "Following PEP 8 helps ensure that your code is clean, readable, and consistent with the broader Python community.\n"
   ]
  },
  {
   "cell_type": "markdown",
   "metadata": {},
   "source": [
    "#### Try It Yourself\n",
    "\n",
    "4-14. PEP 8: Look through the original PEP 8 style guide at https://python.org/\n",
    "dev/peps/pep-0008/. You won’t use much of it now, but it might be interesting \n",
    "to skim through it.\n",
    "\n",
    "4-15. Code Review: Choose three of the programs you’ve written in this chapter \n",
    "and modify each one to comply with PEP 8:\n",
    "•\t Use four spaces for each indentation level. Set your text editor to insert \n",
    "four spaces every time you press tab, if you haven’t already done so (see \n",
    "Appendix B for instructions on how to do this).\n",
    "•\t Use less than 80 characters on each line, and set your editor to show a \n",
    "vertical guideline at the 80th character position.\n",
    "•\t Don’t use blank lines excessively in your program files"
   ]
  },
  {
   "cell_type": "code",
   "execution_count": null,
   "metadata": {},
   "outputs": [],
   "source": []
  }
 ],
 "metadata": {
  "kernelspec": {
   "display_name": "Python 3",
   "language": "python",
   "name": "python3"
  },
  "language_info": {
   "codemirror_mode": {
    "name": "ipython",
    "version": 3
   },
   "file_extension": ".py",
   "mimetype": "text/x-python",
   "name": "python",
   "nbconvert_exporter": "python",
   "pygments_lexer": "ipython3",
   "version": "3.10.2"
  }
 },
 "nbformat": 4,
 "nbformat_minor": 2
}
