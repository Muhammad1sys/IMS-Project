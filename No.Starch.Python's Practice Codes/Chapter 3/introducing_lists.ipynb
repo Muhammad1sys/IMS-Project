{
 "cells": [
  {
   "cell_type": "markdown",
   "metadata": {},
   "source": [
    "## List"
   ]
  },
  {
   "cell_type": "markdown",
   "metadata": {},
   "source": [
    "A list is a collection of items in a particular order. You can make a list that \n",
    "includes the letters of the alphabet, the digits from 0–9, or the names of \n",
    "all the people in your family. You can put anything you want into a list, and \n",
    "38 Chapter 3\n",
    "the items in your list don’t have to be related in any particular way. Because \n",
    "a list usually contains more than one element, it’s a good idea to make the \n",
    "name of your list plural, such as letters, digits, or names. \n"
   ]
  },
  {
   "cell_type": "markdown",
   "metadata": {},
   "source": [
    "In Python, square brackets ([]) indicate a list, and individual elements \n",
    "in the list are separated by commas. Here’s a simple example of a list that \n",
    "contains a few kinds of bicycles:"
   ]
  },
  {
   "cell_type": "code",
   "execution_count": 1,
   "metadata": {},
   "outputs": [
    {
     "name": "stdout",
     "output_type": "stream",
     "text": [
      "['trek', 'cannondale', 'redline', 'speciallized']\n"
     ]
    }
   ],
   "source": [
    "# bicycles.py\n",
    "\n",
    "bicycles : list[str] = ['trek', 'cannondale', 'redline', 'speciallized']\n",
    "print(bicycles)"
   ]
  },
  {
   "cell_type": "code",
   "execution_count": 2,
   "metadata": {},
   "outputs": [
    {
     "name": "stdout",
     "output_type": "stream",
     "text": [
      "trek\n"
     ]
    }
   ],
   "source": [
    "# bicycles.py\n",
    "\n",
    "bicycles : list[str] = ['trek', 'cannondale', 'redline', 'specilized']\n",
    "print(bicycles[0])"
   ]
  },
  {
   "cell_type": "markdown",
   "metadata": {},
   "source": [
    "### Accessing Elements in a List"
   ]
  },
  {
   "cell_type": "markdown",
   "metadata": {},
   "source": [
    "Lists are ordered collections, so you can access any element in a list by \n",
    "telling Python the position, or index, of the item desired. To access an ele\u0002ment in a list, write the name of the list followed by the index of the item \n",
    "enclosed in square brackets.\n",
    "For example, let’s pull out the first bicycle in the list bicycles:"
   ]
  },
  {
   "cell_type": "code",
   "execution_count": 3,
   "metadata": {},
   "outputs": [
    {
     "name": "stdout",
     "output_type": "stream",
     "text": [
      "trek\n"
     ]
    }
   ],
   "source": [
    "# bicycles.py\n",
    "\n",
    "bicycles : list[str] = ['trek', 'cannondale', 'redline', 'specilized']\n",
    "print(bicycles[0])"
   ]
  },
  {
   "cell_type": "markdown",
   "metadata": {},
   "source": [
    "You can format the element 'trek' more neatly by using \n",
    "the title() method:"
   ]
  },
  {
   "cell_type": "code",
   "execution_count": 4,
   "metadata": {},
   "outputs": [
    {
     "name": "stdout",
     "output_type": "stream",
     "text": [
      "Trek\n"
     ]
    }
   ],
   "source": [
    "# bicycles.py\n",
    "\n",
    "bicycles : list[str] = ['trek', 'cannondale', 'redline', 'specialized']\n",
    "print(bicycles[0].title())"
   ]
  },
  {
   "cell_type": "markdown",
   "metadata": {},
   "source": [
    "### Index Positions Start at 0, Not 1"
   ]
  },
  {
   "cell_type": "markdown",
   "metadata": {},
   "source": [
    "Python considers the first item in a list to be at position 0, not position 1. \n",
    "This is true of most programming languages, and the reason has to do with \n",
    "how the list operations are implemented at a lower level. If you’re receiving \n",
    "unexpected results, determine whether you are making a simple off-by-one \n",
    "error."
   ]
  },
  {
   "cell_type": "code",
   "execution_count": 5,
   "metadata": {},
   "outputs": [
    {
     "name": "stdout",
     "output_type": "stream",
     "text": [
      "cannondale\n",
      "specilized\n"
     ]
    }
   ],
   "source": [
    "bicycles : list[str] = ['trek', 'cannondale', 'redline', 'specilized']\n",
    "print(bicycles[1])\n",
    "print(bicycles[3])"
   ]
  },
  {
   "cell_type": "markdown",
   "metadata": {},
   "source": [
    "### Using Individual Values from a List"
   ]
  },
  {
   "cell_type": "markdown",
   "metadata": {},
   "source": [
    "We can use individual values from a list just as we would any other variable. For example, we can use concatenation to create a message based on \n",
    "a value from a list.\n",
    "Let’s try pulling the first bicycle from the list and composing a message \n",
    "using that value."
   ]
  },
  {
   "cell_type": "code",
   "execution_count": 6,
   "metadata": {},
   "outputs": [
    {
     "name": "stdout",
     "output_type": "stream",
     "text": [
      "My first bicycle was Trek.\n"
     ]
    }
   ],
   "source": [
    "bicycles : list[str] = ['trek', 'cannondale', 'redline', 'specilized']\n",
    "message : str = \"My first bicycle was \" + bicycles[0].title() + \".\"\n",
    "\n",
    "print(message)"
   ]
  },
  {
   "cell_type": "markdown",
   "metadata": {},
   "source": [
    "### Try It Yourself"
   ]
  },
  {
   "cell_type": "markdown",
   "metadata": {},
   "source": [
    "Try these short programs to get some firsthand experience with Python’s lists.\n",
    "You might want to create a new folder for each chapter’s exercises to keep \n",
    "them organized."
   ]
  },
  {
   "cell_type": "markdown",
   "metadata": {},
   "source": [
    "3-1. Names: Store the names of a few of your friends in a list called names. Print \n",
    "each person’s name by accessing each element in the list, one at a time.\n"
   ]
  },
  {
   "cell_type": "code",
   "execution_count": 7,
   "metadata": {},
   "outputs": [
    {
     "name": "stdout",
     "output_type": "stream",
     "text": [
      "Umer is my best friend.\n",
      "Also, Ali is my class mate.\n"
     ]
    }
   ],
   "source": [
    "# friends.py\n",
    "\n",
    "friends : list[str] = ['ali','umer', 'afnan']\n",
    "\n",
    "print(friends[1].title() + \" is my best friend.\")\n",
    "print(\"Also, \" + friends[0].title() + \" is my class mate.\")"
   ]
  },
  {
   "cell_type": "markdown",
   "metadata": {},
   "source": [
    "3-2. Greetings: Start with the list you used in Exercise 3-1, but instead of just \n",
    "printing each person’s name, print a message to them. The text of each message should be the same, but each message should be personalized with the \n",
    "person’s name."
   ]
  },
  {
   "cell_type": "code",
   "execution_count": 8,
   "metadata": {},
   "outputs": [
    {
     "name": "stdout",
     "output_type": "stream",
     "text": [
      "Hello Ali, I hope you are enjoying good health. Tomorrow, you are invited to attend a birthday party at my appartment!\n",
      "Hello Umer, I hope you are enjoying good health. Tomorrow, you are invited to attend a birthday party at my appartment!\n",
      "Hello Afnan, I hope you are enjoying good health. Tomorrow, you are invited to attend a birthday party at my appartment!\n"
     ]
    }
   ],
   "source": [
    "# message_friends.py\n",
    "\n",
    "friends : list[str] = ['ali', 'umer', 'afnan']\n",
    "\n",
    "message : str = \"I hope you are enjoying good health. Tomorrow, you are invited to attend a birthday party at my appartment!\"\n",
    "print('Hello ' + friends[0].title() + \", \" + message)\n",
    "print(\"Hello \" + friends[1].title() + \", \" + message)\n",
    "print(\"Hello \" + friends[2].title() + \", \" + message)"
   ]
  },
  {
   "cell_type": "markdown",
   "metadata": {},
   "source": [
    "3-3. Your Own List: Think of your favorite mode of transportation, such as a \n",
    "motorcycle or a car, and make a list that stores several examples. Use your list \n",
    "to print a series of statements about these items, such as “I would like to own a \n",
    "Honda motorcycle.”"
   ]
  },
  {
   "cell_type": "code",
   "execution_count": 9,
   "metadata": {},
   "outputs": [
    {
     "name": "stdout",
     "output_type": "stream",
     "text": [
      "I would like to go to college by bus.\n",
      "A jeep would be best option for offroad route.\n"
     ]
    }
   ],
   "source": [
    "# transportation_modes.py\n",
    "\n",
    "transportations : list[str] = ['motorcycle', 'car', 'jeep', 'bus']\n",
    "\n",
    "print('I would like to go to college by ' + transportations[3] + \".\" )\n",
    "print(\"A \" + transportations[2] + \" would be best option for offroad route.\")"
   ]
  },
  {
   "cell_type": "markdown",
   "metadata": {},
   "source": [
    "### Changing, Adding, and Removing Elements"
   ]
  },
  {
   "cell_type": "markdown",
   "metadata": {},
   "source": [
    "Most lists you create will be dynamic, meaning you’ll build a list and \n",
    "then add and remove elements from it as your program runs its course. For \n",
    "example, you might create a game in which a player has to shoot aliens out \n",
    "of the sky. You could store the initial set of aliens in a list and then remove \n",
    "an alien from the list each time one is shot down. Each time a new alien \n",
    "appears on the screen, you add it to the list. Your list of aliens will decrease \n",
    "and increase in length throughout the course of the game."
   ]
  },
  {
   "cell_type": "markdown",
   "metadata": {},
   "source": [
    "#### Modifying Elements in a List"
   ]
  },
  {
   "cell_type": "markdown",
   "metadata": {},
   "source": [
    "The syntax for modifying an element is similar to the syntax for accessing \n",
    "an element in a list. To change an element, use the name of the list followed \n",
    "by the index of the element you want to change, and then provide the new \n",
    "value you want that item to have."
   ]
  },
  {
   "cell_type": "code",
   "execution_count": 10,
   "metadata": {},
   "outputs": [
    {
     "name": "stdout",
     "output_type": "stream",
     "text": [
      "['honda', 'yamaha', 'suzuki']\n",
      "['honda', 'ducati', 'suzuki']\n"
     ]
    }
   ],
   "source": [
    "# motorcycles.py\n",
    "\n",
    "motorcycles : list[str] = ['honda', 'yamaha', 'suzuki']\n",
    "print(motorcycles)\n",
    "\n",
    "motorcycles[1] = 'ducati'\n",
    "print(motorcycles)"
   ]
  },
  {
   "cell_type": "markdown",
   "metadata": {},
   "source": [
    "#### Adding Elements to a List"
   ]
  },
  {
   "cell_type": "markdown",
   "metadata": {},
   "source": [
    "##### Appending Elements to the End of a List"
   ]
  },
  {
   "cell_type": "markdown",
   "metadata": {},
   "source": [
    "The simplest way to add a new element to a list is to append the item to the \n",
    "list. "
   ]
  },
  {
   "cell_type": "code",
   "execution_count": 11,
   "metadata": {},
   "outputs": [
    {
     "name": "stdout",
     "output_type": "stream",
     "text": [
      "['honda', 'yamaha', 'suzuki']\n",
      "['honda', 'yamaha', 'suzuki', 'ducati']\n"
     ]
    }
   ],
   "source": [
    "motorcycles : list[str] = ['honda', 'yamaha', 'suzuki']\n",
    "print(motorcycles)\n",
    "\n",
    "motorcycles.append('ducati')\n",
    "print(motorcycles)"
   ]
  },
  {
   "cell_type": "markdown",
   "metadata": {},
   "source": [
    "The append() method makes it easy to build lists dynamically. For \n",
    "example, you can start with an empty list and then add items to the list \n",
    "using a series of append() statements. Using an empty list, let’s add the ele\u0002ments 'honda', 'yamaha', and 'suzuki' to t"
   ]
  },
  {
   "cell_type": "code",
   "execution_count": 12,
   "metadata": {},
   "outputs": [
    {
     "name": "stdout",
     "output_type": "stream",
     "text": [
      "['honda', 'yamaha', 'suzuki', 'ducati']\n"
     ]
    }
   ],
   "source": [
    "motorcycles : list[str] = []\n",
    "\n",
    "motorcycles.append('honda')\n",
    "motorcycles.append('yamaha')\n",
    "motorcycles.append('suzuki')\n",
    "motorcycles.append('ducati')\n",
    "\n",
    "print(motorcycles)"
   ]
  },
  {
   "cell_type": "markdown",
   "metadata": {},
   "source": [
    "#### Inserting Elements into a List"
   ]
  },
  {
   "cell_type": "markdown",
   "metadata": {},
   "source": [
    "You can add a new element at any position in your list by using the insert()\n",
    "method. You do this by specifying the index of the new element and the \n",
    "value of the new item."
   ]
  },
  {
   "cell_type": "code",
   "execution_count": 13,
   "metadata": {},
   "outputs": [
    {
     "name": "stdout",
     "output_type": "stream",
     "text": [
      "['ducati', 'honda', 'yamaha', 'suzuki']\n"
     ]
    }
   ],
   "source": [
    "motorcycles : list[str] = ['honda', 'yamaha', 'suzuki']\n",
    "\n",
    "motorcycles.insert(0,'ducati')\n",
    "print(motorcycles)"
   ]
  },
  {
   "cell_type": "markdown",
   "metadata": {},
   "source": [
    "#### Removing Elements from a List"
   ]
  },
  {
   "cell_type": "markdown",
   "metadata": {},
   "source": [
    "##### Removing an Item Using the del Statement"
   ]
  },
  {
   "cell_type": "markdown",
   "metadata": {},
   "source": [
    "If you know the position of the item you want to remove from a list, you can \n",
    "use the del statement. "
   ]
  },
  {
   "cell_type": "code",
   "execution_count": 14,
   "metadata": {},
   "outputs": [
    {
     "name": "stdout",
     "output_type": "stream",
     "text": [
      "['ducati', 'honda', 'yamaha', 'suzuki']\n",
      "['honda', 'yamaha', 'suzuki']\n"
     ]
    }
   ],
   "source": [
    "motorcycles : list[str] = ['ducati','honda', 'yamaha', 'suzuki']\n",
    "print(motorcycles)\n",
    "\n",
    "del motorcycles[0]\n",
    "print(motorcycles)"
   ]
  },
  {
   "cell_type": "markdown",
   "metadata": {},
   "source": [
    "You can remove an item from any position in a list using the del statement if you know its index. For example, here’s how to remove the second \n",
    "item, 'yamaha', in the list:"
   ]
  },
  {
   "cell_type": "code",
   "execution_count": 15,
   "metadata": {},
   "outputs": [
    {
     "name": "stdout",
     "output_type": "stream",
     "text": [
      "['honda', 'yamaha', 'suzuki']\n",
      "['honda', 'suzuki']\n"
     ]
    }
   ],
   "source": [
    "motorcycles : list[str] = ['honda', 'yamaha', 'suzuki']\n",
    "print(motorcycles)\n",
    "\n",
    "del motorcycles[1]\n",
    "print(motorcycles)"
   ]
  },
  {
   "cell_type": "markdown",
   "metadata": {},
   "source": [
    "##### Removing an Item Using the pop() Method"
   ]
  },
  {
   "cell_type": "markdown",
   "metadata": {},
   "source": [
    "+ Sometimes you’ll want to use the value of an item after you remove it from a \n",
    "list. For example, you might want to get the x and y position of an alien that \n",
    "was just shot down, so you can draw an explosion at that position. In a web \n",
    "application, you might want to remove a user from a list of active members \n",
    "and then add that user to a list of inactive members.\n",
    "\n",
    "+ The pop() method removes the last item in a list, but it lets you work \n",
    "with that item after removing it. The term pop comes from thinking of a \n",
    "list as a stack of items and popping one item off the top of the stack. In \n",
    "this analogy, the top of a stack corresponds to the end of a list"
   ]
  },
  {
   "cell_type": "code",
   "execution_count": 16,
   "metadata": {},
   "outputs": [
    {
     "name": "stdout",
     "output_type": "stream",
     "text": [
      "['honda', 'yamaha', 'suzuki']\n",
      "['honda', 'yamaha']\n",
      "suzuki\n"
     ]
    }
   ],
   "source": [
    "motorcycles : list[str] = ['honda', 'yamaha', 'suzuki']\n",
    "\n",
    "print(motorcycles)\n",
    "popped_motorcycle : str = motorcycles.pop()\n",
    "print(motorcycles)\n",
    "print(popped_motorcycle)\n",
    "\n"
   ]
  },
  {
   "cell_type": "markdown",
   "metadata": {},
   "source": [
    "How might this pop() method be useful? Imagine that the motorcycles \n",
    "in the list are stored in chronological order according to when we owned \n",
    "them. If this is the case, we can use the pop() method to print a statement \n",
    "about the last motorcycle we bought"
   ]
  },
  {
   "cell_type": "code",
   "execution_count": 17,
   "metadata": {},
   "outputs": [
    {
     "name": "stdout",
     "output_type": "stream",
     "text": [
      "The motorcycle that I last owned was a Suzuki.\n"
     ]
    }
   ],
   "source": [
    "motorcycles : list[str] = ['honda', 'yamaha', 'suzuki']\n",
    "\n",
    "last_owned : str = motorcycles.pop()\n",
    "print(\"The motorcycle that I last owned was a \" + last_owned.title() + \".\")"
   ]
  },
  {
   "cell_type": "markdown",
   "metadata": {},
   "source": [
    "#### Popping Items from any Position in a List"
   ]
  },
  {
   "cell_type": "markdown",
   "metadata": {},
   "source": [
    "You can actually use pop() to remove an item in a list at any position by \n",
    "including the index of the item you want to remove in parentheses."
   ]
  },
  {
   "cell_type": "code",
   "execution_count": 18,
   "metadata": {},
   "outputs": [
    {
     "name": "stdout",
     "output_type": "stream",
     "text": [
      "The motorcycle that I first owned was a Honda.\n"
     ]
    }
   ],
   "source": [
    "motorcycles : list[str] = ['honda', 'yamaha', 'suzuki']\n",
    "\n",
    "first_owned : str = motorcycles.pop(0)\n",
    "print(\"The motorcycle that I first owned was a \" + first_owned.title() + \".\")"
   ]
  },
  {
   "cell_type": "markdown",
   "metadata": {},
   "source": [
    "+ Remember that each time you use pop(), the item you work with is no \n",
    "longer stored in the list.\n",
    "+ If you’re unsure whether to use the del statement or the pop() method, \n",
    "here’s a simple way to decide: when you want to delete an item from a list \n",
    "and not use that item in any way, use the del statement; if you want to use an \n",
    "item as you remove it, use the pop() method"
   ]
  },
  {
   "cell_type": "markdown",
   "metadata": {},
   "source": [
    "#### Removing an Item by Value"
   ]
  },
  {
   "cell_type": "markdown",
   "metadata": {},
   "source": [
    "Sometimes you won’t know the position of the value you want to remove \n",
    "from a list. If you only know the value of the item you want to remove, you \n",
    "can use the remove() method.\n",
    "For example, let’s say we want to remove the value 'ducati' from the list of \n",
    "motorcycles. "
   ]
  },
  {
   "cell_type": "code",
   "execution_count": 19,
   "metadata": {},
   "outputs": [
    {
     "name": "stdout",
     "output_type": "stream",
     "text": [
      "['honda', 'suzuki', 'yamaha', 'ducati']\n",
      "['honda', 'suzuki', 'yamaha']\n"
     ]
    }
   ],
   "source": [
    "motorcycles : list[str] = ['honda', 'suzuki', 'yamaha', 'ducati']\n",
    "print(motorcycles)\n",
    "\n",
    "motorcycles.remove('ducati')\n",
    "print(motorcycles)"
   ]
  },
  {
   "cell_type": "code",
   "execution_count": 20,
   "metadata": {},
   "outputs": [
    {
     "name": "stdout",
     "output_type": "stream",
     "text": [
      "['honda', 'suzuki', 'yamaha', 'ducati']\n",
      "['honda', 'suzuki', 'yamaha']\n",
      "\n",
      "A Ducati is too expensive for me.\n"
     ]
    }
   ],
   "source": [
    "motorcycles : list[str] = ['honda', 'suzuki', 'yamaha', 'ducati']\n",
    "print(motorcycles)\n",
    "\n",
    "too_expensive : str = \"ducati\"\n",
    "motorcycles.remove('ducati')\n",
    "print(motorcycles)\n",
    "print('\\nA ' + too_expensive.title() + ' is too expensive for me.')"
   ]
  },
  {
   "cell_type": "markdown",
   "metadata": {},
   "source": [
    "The remove() method deletes only the first occurrence of the value you specify. If there’s \n",
    "a possibility the value appears more than once in the list, you’ll need to use a loop to \n",
    "determine if all occurrences of the value have been removed. You’ll learn how to do \n",
    "this in Chapter 7"
   ]
  },
  {
   "cell_type": "markdown",
   "metadata": {},
   "source": [
    "#### Try It Yourself\n",
    "\n"
   ]
  },
  {
   "cell_type": "markdown",
   "metadata": {},
   "source": [
    "The following exercises are a bit more complex than those in Chapter 2, but \n",
    "they give you an opportunity to use lists in all of the ways described.\n",
    "\n"
   ]
  },
  {
   "cell_type": "markdown",
   "metadata": {},
   "source": [
    "3-4. Guest List: If you could invite anyone, living or deceased, to dinner, who \n",
    "would you invite? Make a list that includes at least three people you’d like to \n",
    "invite to dinner. Then use your list to print a message to each person, inviting \n",
    "them to dinner.\n"
   ]
  },
  {
   "cell_type": "code",
   "execution_count": 21,
   "metadata": {},
   "outputs": [
    {
     "name": "stdout",
     "output_type": "stream",
     "text": [
      "Dear Muneeb! You are invited to today's dinner.\n",
      "Dear Umer! You are invited to today's dinner.\n",
      "Dear Yaqzan! You are invited to today's dinner.\n"
     ]
    }
   ],
   "source": [
    "guests : list[str] = ['muneeb', 'umer', 'yaqzan']\n",
    "\n",
    "message : str = \"You are invited to today's dinner.\"\n",
    "print('Dear ' + guests[0].title() + \"! \" +  message)\n",
    "print('Dear ' + guests[1].title() + \"! \" +  message)\n",
    "print('Dear ' + guests[2].title() + \"! \" +  message)"
   ]
  },
  {
   "cell_type": "markdown",
   "metadata": {},
   "source": [
    "3-5. Changing Guest List: You just heard that one of your guests can’t make the \n",
    "dinner, so you need to send out a new set of invitations. You’ll have to think of \n",
    "someone else to invite.\n",
    "+\t Start with your program from Exercise 3-4. Add a print statement at the \n",
    "end of your program stating the name of the guest who can’t make it.\n",
    "+\t Modify your list, replacing the name of the guest who can’t make it with \n",
    "the name of the new person you are inviting.\n",
    "+\t Print a second set of invitation messages, one for each person who is still \n",
    "in your list.\n"
   ]
  },
  {
   "cell_type": "code",
   "execution_count": 22,
   "metadata": {},
   "outputs": [
    {
     "name": "stdout",
     "output_type": "stream",
     "text": [
      "Yaqzan is not available!\n",
      "Dear Muneeb! You are invited to today's dinner.\n",
      "Dear Umer! You are invited to today's dinner.\n",
      "Dear Hamza! You are invited to today's dinner.\n"
     ]
    }
   ],
   "source": [
    "guests : list[str] = ['muneeb', 'umer', 'yaqzan']\n",
    "message : str = \"You are invited to today's dinner.\"\n",
    "\n",
    "not_available : str = \"yaqzan\"\n",
    "print(not_available.title() + ' is not available!')\n",
    "guests[2] = 'hamza'\n",
    "\n",
    "print('Dear ' + guests[0].title() + \"! \" +  message)\n",
    "print('Dear ' + guests[1].title() + \"! \" +  message)\n",
    "print('Dear ' + guests[2].title() + \"! \" +  message)"
   ]
  },
  {
   "cell_type": "markdown",
   "metadata": {},
   "source": [
    "3-6. More Guests: You just found a bigger dinner table, so now more space is \n",
    "available. Think of three more guests to invite to dinner.\n",
    "+\t Start with your program from Exercise 3-4 or Exercise 3-5. Add a print\n",
    "statement to the end of your program informing people that you found a \n",
    "bigger dinner table.\n",
    "+\t Use insert() to add one new guest to the beginning of your list.\n",
    "+\t Use insert() to add one new guest to the middle of your list.\n",
    "+\t Use append() to add one new guest to the end of your list.\n",
    "+\t Print a new set of invitation messages, one for each person in your list."
   ]
  },
  {
   "cell_type": "code",
   "execution_count": 23,
   "metadata": {},
   "outputs": [
    {
     "name": "stdout",
     "output_type": "stream",
     "text": [
      "Lucikly, we have found a bigger dining table!\n",
      "\n",
      "Dear Ali! You are invited to tonight's dinner.\n",
      "Dear Muneeb! You are invited to tonight's dinner.\n",
      "Dear Nooh! You are invited to tonight's dinner.\n",
      "Dear Umer! You are invited to tonight's dinner.\n",
      "Dear Yaqzan! You are invited to tonight's dinner.\n",
      "Dear Umair! You are invited to tonight's dinner.\n"
     ]
    }
   ],
   "source": [
    "guests : list[str] = ['muneeb', 'umer', 'yaqzan']\n",
    "message : str = \"You are invited to tonight's dinner.\"\n",
    "\n",
    "print('Lucikly, we have found a bigger dining table!')\n",
    "guests.insert(0,\"ali\")\n",
    "guests.insert(2,\"nooh\")\n",
    "guests.append(\"umair\")\n",
    "\n",
    "print('\\nDear ' + guests[0].title() + \"! \" +  message)\n",
    "print('Dear ' + guests[1].title() + \"! \" +  message)\n",
    "print('Dear ' + guests[2].title() + \"! \" +  message)\n",
    "print('Dear ' + guests[3].title() + \"! \" +  message)\n",
    "print('Dear ' + guests[4].title() + \"! \" +  message)\n",
    "print('Dear ' + guests[5].title() + \"! \" +  message)"
   ]
  },
  {
   "cell_type": "markdown",
   "metadata": {},
   "source": [
    "3-7. Shrinking Guest List: You just found out that your new dinner table won’t \n",
    "arrive in time for the dinner, and you have space for only two guests.\n",
    "+\t Start with your program from Exercise 3-6. Add a new line that prints a \n",
    "message saying that you can invite only two people for dinner.\n",
    "+\t Use pop() to remove guests from your list one at a time until only two \n",
    "names remain in your list. Each time you pop a name from your list, print \n",
    "a message to that person letting them know you’re sorry you can’t invite \n",
    "them to dinner.\n",
    "+\t Print a message to each of the two people still on your list, letting them \n",
    "know they’re still invited.\n",
    "+\t Use del to remove the last two names from your list, so you have an empty \n",
    "list. Print your list to make sure you actually have an empty list at the end \n",
    "of your program"
   ]
  },
  {
   "cell_type": "code",
   "execution_count": 24,
   "metadata": {},
   "outputs": [
    {
     "name": "stdout",
     "output_type": "stream",
     "text": [
      "Dear umair, I am really feeling sorry as our new dinner table won’t arrive in time for the dinner, and we have space for only two guests.\n",
      "Dear yaqzan, I am really feeling sorry as our new dinner table won’t arrive in time for the dinner, and we have space for only two guests.\n",
      "Dear umer, I am really feeling sorry as our new dinner table won’t arrive in time for the dinner, and we have space for only two guests.\n",
      "Dear nooh, I am really feeling sorry as our new dinner table won’t arrive in time for the dinner, and we have space for only two guests.\n",
      "\n",
      "Dear Ali! You are invited to tonight's dinner.\n",
      "Dear Muneeb! You are invited to tonight's dinner.\n"
     ]
    }
   ],
   "source": [
    "guests : list[str] = ['muneeb', 'umer', 'yaqzan']\n",
    "message : str = \"You are invited to tonight's dinner.\"\n",
    "\n",
    "guests.insert(0,\"ali\")\n",
    "guests.insert(2,\"nooh\")\n",
    "guests.append(\"umair\")\n",
    "\n",
    "sorry_message : str = \"I am really feeling sorry as our new dinner table won’t arrive in time for the dinner, and we have space for only two guests.\"\n",
    "\n",
    "cancelled_guest1 : str = guests.pop()\n",
    "cancelled_guest2 : str = guests.pop()\n",
    "cancelled_guest3 : str = guests.pop()\n",
    "cancelled_guest4 : str = guests.pop()\n",
    "\n",
    "print(f\"Dear {cancelled_guest1}, {sorry_message}\")\n",
    "print(f\"Dear {cancelled_guest2}, {sorry_message}\")\n",
    "print(f\"Dear {cancelled_guest3}, {sorry_message}\")\n",
    "print(f\"Dear {cancelled_guest4}, {sorry_message}\")\n",
    "\n",
    "print(f'\\nDear {guests[0].title()}! {message}')\n",
    "print(f'Dear {guests[1].title()}! {message}')"
   ]
  },
  {
   "cell_type": "markdown",
   "metadata": {},
   "source": [
    "#### Organizing a List"
   ]
  },
  {
   "cell_type": "markdown",
   "metadata": {},
   "source": [
    "##### Sorting a List Permanently with the sort() Method"
   ]
  },
  {
   "cell_type": "markdown",
   "metadata": {},
   "source": [
    "Python’s sort() method makes it relatively easy to sort a list. Imagine we \n",
    "have a list of cars and want to change the order of the list to store them \n",
    "alphabetically. To keep the task simple, let’s assume that all the values in \n",
    "the list are lowercase."
   ]
  },
  {
   "cell_type": "code",
   "execution_count": 25,
   "metadata": {},
   "outputs": [
    {
     "name": "stdout",
     "output_type": "stream",
     "text": [
      "['audi', 'bmw', 'subaru', 'toyota']\n"
     ]
    }
   ],
   "source": [
    "# filename: cars.py\n",
    "\n",
    "cars : list[str] = ['bmw', 'audi', 'toyota', 'subaru' ]\n",
    "\n",
    "cars.sort()\n",
    "print(cars)\n"
   ]
  },
  {
   "cell_type": "markdown",
   "metadata": {},
   "source": [
    "You can also sort this list in reverse alphabetical order by passing the \n",
    "argument reverse=True to the sort() method. "
   ]
  },
  {
   "cell_type": "code",
   "execution_count": 26,
   "metadata": {},
   "outputs": [
    {
     "name": "stdout",
     "output_type": "stream",
     "text": [
      "The order of the list is permanently changed.\n",
      "['toyota', 'subaru', 'bmw', 'audi']\n"
     ]
    }
   ],
   "source": [
    "cars : list[str] = ['bmw', 'audi', 'toyota', 'subaru' ]\n",
    "\n",
    "cars.sort(reverse=True)\n",
    "print(\"The order of the list is permanently changed.\")\n",
    "print(cars)"
   ]
  },
  {
   "cell_type": "markdown",
   "metadata": {},
   "source": [
    "#### Sorting a List Temporarily with the sorted() Function"
   ]
  },
  {
   "cell_type": "markdown",
   "metadata": {},
   "source": [
    "To maintain the original order of a list but present it in a sorted order, you \n",
    "can use the sorted() function. The sorted() function lets you display your list \n",
    "in a particular order but doesn’t affect the actual order of the list. The sorted() function can also accept a reverse=True\n",
    "argument if you want to display a list in reverse alphabetical order.\n",
    "Let’s try this function on the list of cars"
   ]
  },
  {
   "cell_type": "code",
   "execution_count": 27,
   "metadata": {},
   "outputs": [
    {
     "name": "stdout",
     "output_type": "stream",
     "text": [
      "Here is the orignal list:\n",
      "['bmw', 'audi', 'toyota', 'subaru']\n",
      "Here is the sorted list:\n",
      "['audi', 'bmw', 'subaru', 'toyota']\n",
      "Again, here is the orignal list:\n",
      "['bmw', 'audi', 'toyota', 'subaru']\n"
     ]
    }
   ],
   "source": [
    "# filename: cars.py\n",
    "\n",
    "cars : list[str] = ['bmw', 'audi', 'toyota', 'subaru' ]\n",
    "\n",
    "print(\"Here is the orignal list:\")\n",
    "print(cars)\n",
    "\n",
    "print(\"Here is the sorted list:\")\n",
    "print(sorted(cars))\n",
    "\n",
    "print(\"Again, here is the orignal list:\")\n",
    "print(cars)\n",
    "\n"
   ]
  },
  {
   "cell_type": "markdown",
   "metadata": {},
   "source": [
    "#### Printing a List in Reverse Order"
   ]
  },
  {
   "cell_type": "markdown",
   "metadata": {},
   "source": [
    "To reverse the original order of a list, you can use the reverse() method. \n",
    "If we originally stored the list of cars in chronological order according to \n",
    "when we owned them, we could easily rearrange the list into reverse chronological order:"
   ]
  },
  {
   "cell_type": "code",
   "execution_count": 28,
   "metadata": {},
   "outputs": [
    {
     "name": "stdout",
     "output_type": "stream",
     "text": [
      "['bmw', 'audi', 'toyota', 'subaru']\n",
      "['subaru', 'toyota', 'audi', 'bmw']\n"
     ]
    }
   ],
   "source": [
    "# filename: cars.py\n",
    "\n",
    "cars : list[str] = ['bmw', 'audi', 'toyota', 'subaru' ]\n",
    "print(cars)\n",
    "\n",
    "cars.reverse()\n",
    "print(cars)\n"
   ]
  },
  {
   "cell_type": "markdown",
   "metadata": {},
   "source": [
    "The reverse() method changes the order of a list permanently, but you \n",
    "can revert to the original order anytime by applying reverse() to the same \n",
    "list a second time"
   ]
  },
  {
   "cell_type": "markdown",
   "metadata": {},
   "source": [
    "#### Finding the Length of a List"
   ]
  },
  {
   "cell_type": "markdown",
   "metadata": {},
   "source": [
    "You can quickly find the length of a list by using the len() function. "
   ]
  },
  {
   "cell_type": "code",
   "execution_count": 29,
   "metadata": {},
   "outputs": [
    {
     "name": "stdout",
     "output_type": "stream",
     "text": [
      "4\n"
     ]
    }
   ],
   "source": [
    "cars : list[str] = ['bmw', 'audi', 'toyota', 'subaru' ]\n",
    "print(len(cars))"
   ]
  },
  {
   "cell_type": "markdown",
   "metadata": {},
   "source": [
    "Python counts the items in a list starting with one, so you shouldn’t run into any off-by-one errors when determining the length."
   ]
  },
  {
   "cell_type": "markdown",
   "metadata": {},
   "source": [
    "##### Try It Yourself\n"
   ]
  },
  {
   "cell_type": "markdown",
   "metadata": {},
   "source": [
    "3-8. Seeing the World: Think of at least five places in the world you’d like to \n",
    "visit.\n",
    "+\t Store the locations in a list. Make sure the list is not in alphabetical order.\n",
    "+\t Print your list in its original order. Don’t worry about printing the list neatly, \n",
    "just print it as a raw Python list.\n",
    "+\t Use sorted() to print your list in alphabetical order without modifying the \n",
    "actual list.\n",
    "+\t Show that your list is still in its original order by printing it.\n",
    "+\t Use sorted() to print your list in reverse alphabetical order without changing the order of the original list.\n",
    "+\t Show that your list is still in its original order by printing it again.\n",
    "+\t Use reverse() to change the order of your list. Print the list to show that its \n",
    "order has changed.\n",
    "+\t Use reverse() to change the order of your list again. Print the list to show \n",
    "it’s back to its original order.\n",
    "+\t Use sort() to change your list so it’s stored in alphabetical order. Print the \n",
    "list to show that its order has been changed.\n",
    "+\t Use sort() to change your list so it’s stored in reverse alphabetical order.\n",
    "Print the list to show that its order has changed.\n"
   ]
  },
  {
   "cell_type": "code",
   "execution_count": 30,
   "metadata": {},
   "outputs": [
    {
     "name": "stdout",
     "output_type": "stream",
     "text": [
      "Orignal list: ['mecca', 'madina', 'al aqsa mosque', 'saif ul mulook', 'neelam']\n",
      "\n",
      "Here is the sorted list: ['al aqsa mosque', 'madina', 'mecca', 'neelam', 'saif ul mulook']\n",
      "Sorted method hasn't effected the orignal list: ['mecca', 'madina', 'al aqsa mosque', 'saif ul mulook', 'neelam']\n",
      "\n",
      "Here is the sorted list in reverse order: ['saif ul mulook', 'neelam', 'mecca', 'madina', 'al aqsa mosque']\n",
      "Sorted method hasn't effected the orignal list: ['mecca', 'madina', 'al aqsa mosque', 'saif ul mulook', 'neelam']\n",
      "\n",
      "Here is the reverse list: ['neelam', 'saif ul mulook', 'al aqsa mosque', 'madina', 'mecca']\n",
      "\n",
      "Here is the orginal ordered list: ['mecca', 'madina', 'al aqsa mosque', 'saif ul mulook', 'neelam']\n",
      "\n",
      "Here is the sorted list: ['al aqsa mosque', 'madina', 'mecca', 'neelam', 'saif ul mulook']\n",
      "\n",
      "Here is the reverse sorted list: ['al aqsa mosque', 'madina', 'mecca', 'neelam', 'saif ul mulook']\n"
     ]
    }
   ],
   "source": [
    "locations : list[str] = ['mecca', 'madina', 'al aqsa mosque', 'saif ul mulook', 'neelam']\n",
    "print(\"Orignal list:\",locations)\n",
    "\n",
    "print('\\nHere is the sorted list:',sorted(locations))\n",
    "print(\"Sorted method hasn't effected the orignal list:\",locations)\n",
    "\n",
    "print('\\nHere is the sorted list in reverse order:',sorted(locations, reverse = True))\n",
    "print(\"Sorted method hasn't effected the orignal list:\",locations)\n",
    "\n",
    "locations.reverse()\n",
    "print('\\nHere is the reverse list:',locations)\n",
    "\n",
    "locations.reverse()\n",
    "print('\\nHere is the orginal ordered list:',locations)\n",
    "\n",
    "locations.sort()\n",
    "print('\\nHere is the sorted list:',locations)\n",
    "\n",
    "locations.sort()\n",
    "print('\\nHere is the reverse sorted list:',locations)"
   ]
  },
  {
   "cell_type": "markdown",
   "metadata": {},
   "source": [
    "3-9. Dinner Guests: Working with one of the programs from Exercises 3-4 \n",
    "through 3-7 (page 46), use len() to print a message indicating the number \n",
    "of people you are inviting to dinner."
   ]
  },
  {
   "cell_type": "code",
   "execution_count": 31,
   "metadata": {},
   "outputs": [
    {
     "name": "stdout",
     "output_type": "stream",
     "text": [
      "Lucikly, we found a bigger dining table!\n",
      "Dear Ali! You are invited to tonight's dinner.\n",
      "Dear Muneeb! You are invited to tonight's dinner.\n",
      "Dear Nooh! You are invited to tonight's dinner.\n",
      "Dear Umer! You are invited to tonight's dinner.\n",
      "Dear Yaqzan! You are invited to tonight's dinner.\n",
      "Dear Umair! You are invited to tonight's dinner.\n",
      "\n",
      "We are inviting 6 guests.\n"
     ]
    }
   ],
   "source": [
    "guests : list[str] = ['muneeb', 'umer', 'yaqzan']\n",
    "message : str = \"You are invited to tonight's dinner.\"\n",
    "\n",
    "print('Lucikly, we found a bigger dining table!')\n",
    "guests.insert(0,\"ali\")\n",
    "guests.insert(2,\"nooh\")\n",
    "guests.append(\"umair\")\n",
    "\n",
    "print('Dear ' + guests[0].title() + \"! \" +  message)\n",
    "print('Dear ' + guests[1].title() + \"! \" +  message)\n",
    "print('Dear ' + guests[2].title() + \"! \" +  message)\n",
    "print('Dear ' + guests[3].title() + \"! \" +  message)\n",
    "print('Dear ' + guests[4].title() + \"! \" +  message)\n",
    "print('Dear ' + guests[5].title() + \"! \" +  message)\n",
    "\n",
    "print(f'\\nWe are inviting {len(guests)} guests.')"
   ]
  },
  {
   "cell_type": "markdown",
   "metadata": {},
   "source": [
    "3-10. Every Function: Think of something you could store in a list. For example, \n",
    "you could make a list of mountains, rivers, countries, cities, languages, or anything else you’d like. Write a program that creates a list containing these items \n",
    "and then uses each function introduced in this chapter at least once."
   ]
  },
  {
   "cell_type": "code",
   "execution_count": 32,
   "metadata": {},
   "outputs": [
    {
     "name": "stdout",
     "output_type": "stream",
     "text": [
      "First city:  Lahore\n",
      "Last city:  Karachi\n",
      "\n",
      "Updated list after modifying a city:  ['Lahore', 'Islamabad', 'Multan', 'Quetta', 'Karachi']\n",
      "\n",
      "Updated list after appending a city:  ['Lahore', 'Islamabad', 'Multan', 'Quetta', 'Karachi', 'Gilgit']\n",
      "\n",
      "List after inserting a city at 2nd index:   ['Lahore', 'Islamabad', 'Kashmir', 'Multan', 'Quetta', 'Karachi', 'Gilgit']\n",
      "\n",
      "List after removing Lahore city;  ['Islamabad', 'Kashmir', 'Multan', 'Quetta', 'Karachi', 'Gilgit']\n",
      "\n",
      "List after popping 2nd element;  ['Islamabad', 'Multan', 'Quetta', 'Karachi', 'Gilgit']\n",
      "\n",
      "Here is the temporary sorted list:  ['Gilgit', 'Islamabad', 'Karachi', 'Multan', 'Quetta']\n",
      "Orignal list:  ['Islamabad', 'Multan', 'Quetta', 'Karachi', 'Gilgit']\n",
      "\n",
      "Permanent sorted list:  ['Gilgit', 'Islamabad', 'Karachi', 'Multan', 'Quetta']\n",
      "\n",
      "Reverse order of the list:  ['Quetta', 'Multan', 'Karachi', 'Islamabad', 'Gilgit']\n",
      "\n",
      "Length of the list:  5\n"
     ]
    }
   ],
   "source": [
    "cities : list[str] =  [\"Lahore\", \"Islamabad\", \"Peshawar\", \"Quetta\", \"Karachi\"]\n",
    "\n",
    "# accessing elements in the list\n",
    "print(\"First city: \", cities[0])\n",
    "print(\"Last city: \", cities[-1])\n",
    "\n",
    "#modifiying an element in a list\n",
    "cities[2]= \"Multan\"\n",
    "print(\"\\nUpdated list after modifying a city: \", cities)\n",
    "\n",
    "# appending a new item\n",
    "cities.append(\"Gilgit\")\n",
    "print('\\nUpdated list after appending a city: ', cities)\n",
    "\n",
    "# inserting an item at a specific position\n",
    "cities.insert(2,\"Kashmir\")\n",
    "print(\"\\nList after inserting a city at 2nd index:  \", cities)\n",
    "\n",
    "# removing an element from the list by its value\n",
    "cities.remove(\"Lahore\")\n",
    "print(\"\\nList after removing Lahore city; \", cities)\n",
    "\n",
    "# removing an element by its index\n",
    "cities.pop(1)\n",
    "print(\"\\nList after popping 2nd element; \", cities)\n",
    "\n",
    "#temporary sorting a list\n",
    "print(\"\\nHere is the temporary sorted list: \", sorted(cities) )\n",
    "print(\"Orignal list: \", cities)\n",
    "\n",
    "#permanent sorting a list\n",
    "cities.sort()\n",
    "print(\"\\nPermanent sorted list: \", cities)\n",
    "\n",
    "#reversing the order of the list\n",
    "cities.reverse()\n",
    "print(\"\\nReverse order of the list: \", cities)\n",
    "\n",
    "# length of the list\n",
    "print(\"\\nLength of the list: \", len(cities) )\n"
   ]
  },
  {
   "cell_type": "markdown",
   "metadata": {},
   "source": [
    "#### Avoiding Index Errors When Working with Lists"
   ]
  },
  {
   "cell_type": "markdown",
   "metadata": {},
   "source": [
    "One type of error is common to see when you’re working with lists for the \n",
    "first time. Let’s say you have a list with three items, and you ask for the \n",
    "fourth item:"
   ]
  },
  {
   "cell_type": "code",
   "execution_count": 33,
   "metadata": {},
   "outputs": [
    {
     "ename": "IndexError",
     "evalue": "list index out of range",
     "output_type": "error",
     "traceback": [
      "\u001b[1;31m---------------------------------------------------------------------------\u001b[0m",
      "\u001b[1;31mIndexError\u001b[0m                                Traceback (most recent call last)",
      "Cell \u001b[1;32mIn[33], line 2\u001b[0m\n\u001b[0;32m      1\u001b[0m motorcycles : \u001b[38;5;28mlist\u001b[39m[\u001b[38;5;28mstr\u001b[39m] \u001b[38;5;241m=\u001b[39m [\u001b[38;5;124m'\u001b[39m\u001b[38;5;124mhonda\u001b[39m\u001b[38;5;124m'\u001b[39m, \u001b[38;5;124m'\u001b[39m\u001b[38;5;124myamaha\u001b[39m\u001b[38;5;124m'\u001b[39m, \u001b[38;5;124m'\u001b[39m\u001b[38;5;124msuzuki\u001b[39m\u001b[38;5;124m'\u001b[39m]\n\u001b[1;32m----> 2\u001b[0m \u001b[38;5;28mprint\u001b[39m(\u001b[43mmotorcycles\u001b[49m\u001b[43m[\u001b[49m\u001b[38;5;241;43m3\u001b[39;49m\u001b[43m]\u001b[49m)\n",
      "\u001b[1;31mIndexError\u001b[0m: list index out of range"
     ]
    },
    {
     "ename": "",
     "evalue": "",
     "output_type": "error",
     "traceback": [
      "\u001b[1;31mThe Kernel crashed while executing code in the current cell or a previous cell. \n",
      "\u001b[1;31mPlease review the code in the cell(s) to identify a possible cause of the failure. \n",
      "\u001b[1;31mClick <a href='https://aka.ms/vscodeJupyterKernelCrash'>here</a> for more info. \n",
      "\u001b[1;31mView Jupyter <a href='command:jupyter.viewOutput'>log</a> for further details."
     ]
    }
   ],
   "source": [
    "motorcycles : list[str] = ['honda', 'yamaha', 'suzuki']\n",
    "print(motorcycles[3])"
   ]
  },
  {
   "cell_type": "markdown",
   "metadata": {},
   "source": [
    "Keep in mind that whenever you want to access the last item in a list \n",
    "you use the index -1. This will always work, even if your list has changed \n",
    "size since the last time you accessed it:"
   ]
  },
  {
   "cell_type": "code",
   "execution_count": null,
   "metadata": {},
   "outputs": [
    {
     "name": "stdout",
     "output_type": "stream",
     "text": [
      "suzuki\n"
     ]
    }
   ],
   "source": [
    "motorcycles : list[str] = ['honda', 'yamaha', 'suzuki']\n",
    "print(motorcycles[-1])"
   ]
  },
  {
   "cell_type": "markdown",
   "metadata": {},
   "source": [
    "The only time this approach will cause an error is when you request the \n",
    "last item from an empty list;"
   ]
  },
  {
   "cell_type": "code",
   "execution_count": null,
   "metadata": {},
   "outputs": [
    {
     "ename": "IndexError",
     "evalue": "list index out of range",
     "output_type": "error",
     "traceback": [
      "\u001b[1;31m---------------------------------------------------------------------------\u001b[0m",
      "\u001b[1;31mIndexError\u001b[0m                                Traceback (most recent call last)",
      "Cell \u001b[1;32mIn[111], line 2\u001b[0m\n\u001b[0;32m      1\u001b[0m motorcycles : \u001b[38;5;28mlist\u001b[39m[\u001b[38;5;28mstr\u001b[39m] \u001b[38;5;241m=\u001b[39m []\n\u001b[1;32m----> 2\u001b[0m \u001b[38;5;28mprint\u001b[39m(\u001b[43mmotorcycles\u001b[49m\u001b[43m[\u001b[49m\u001b[38;5;241;43m-\u001b[39;49m\u001b[38;5;241;43m1\u001b[39;49m\u001b[43m]\u001b[49m)\n",
      "\u001b[1;31mIndexError\u001b[0m: list index out of range"
     ]
    }
   ],
   "source": [
    "motorcycles : list[str] = []\n",
    "print(motorcycles[-1])"
   ]
  },
  {
   "cell_type": "markdown",
   "metadata": {},
   "source": [
    "+ If an index error occurs and you can’t figure out how to resolve it, try printing your \n",
    "list or just printing the length of your list. Your list might look much different than \n",
    "you thought it did, especially if it has been managed dynamically by your program. \n",
    "Seeing the actual list, or the exact number of items in your list, can help you sort out \n",
    "such logical errors"
   ]
  },
  {
   "cell_type": "markdown",
   "metadata": {},
   "source": [
    "#### Try It Yourself\n"
   ]
  },
  {
   "cell_type": "markdown",
   "metadata": {},
   "source": [
    "3-11. Intentional Error: If you haven’t received an index error in one of your \n",
    "programs yet, try to make one happen. Change an index in one of your programs to produce an index error. Make sure you correct the error before closing the program."
   ]
  },
  {
   "cell_type": "code",
   "execution_count": null,
   "metadata": {},
   "outputs": [
    {
     "ename": "IndexError",
     "evalue": "list index out of range",
     "output_type": "error",
     "traceback": [
      "\u001b[1;31m---------------------------------------------------------------------------\u001b[0m",
      "\u001b[1;31mIndexError\u001b[0m                                Traceback (most recent call last)",
      "Cell \u001b[1;32mIn[114], line 2\u001b[0m\n\u001b[0;32m      1\u001b[0m friends : \u001b[38;5;28mlist\u001b[39m[\u001b[38;5;28mstr\u001b[39m] \u001b[38;5;241m=\u001b[39m [\u001b[38;5;124m'\u001b[39m\u001b[38;5;124mali\u001b[39m\u001b[38;5;124m'\u001b[39m, \u001b[38;5;124m'\u001b[39m\u001b[38;5;124mumer\u001b[39m\u001b[38;5;124m'\u001b[39m]\n\u001b[1;32m----> 2\u001b[0m best_friend : \u001b[38;5;28mstr\u001b[39m \u001b[38;5;241m=\u001b[39m \u001b[43mfriends\u001b[49m\u001b[43m[\u001b[49m\u001b[38;5;241;43m2\u001b[39;49m\u001b[43m]\u001b[49m\n\u001b[0;32m      3\u001b[0m \u001b[38;5;28mprint\u001b[39m(\u001b[38;5;124mf\u001b[39m\u001b[38;5;124m\"\u001b[39m\u001b[38;5;132;01m{\u001b[39;00mbest_friend\u001b[38;5;132;01m}\u001b[39;00m\u001b[38;5;124m is my best friend.\u001b[39m\u001b[38;5;124m\"\u001b[39m)\n",
      "\u001b[1;31mIndexError\u001b[0m: list index out of range"
     ]
    }
   ],
   "source": [
    "friends : list[str] = ['ali', 'umer']\n",
    "best_friend : str = friends[2]\n",
    "print(f\"{best_friend} is my best friend.\")"
   ]
  },
  {
   "cell_type": "code",
   "execution_count": null,
   "metadata": {},
   "outputs": [],
   "source": []
  }
 ],
 "metadata": {
  "kernelspec": {
   "display_name": "Python 3",
   "language": "python",
   "name": "python3"
  },
  "language_info": {
   "codemirror_mode": {
    "name": "ipython",
    "version": 3
   },
   "file_extension": ".py",
   "mimetype": "text/x-python",
   "name": "python",
   "nbconvert_exporter": "python",
   "pygments_lexer": "ipython3",
   "version": "3.10.2"
  }
 },
 "nbformat": 4,
 "nbformat_minor": 2
}
