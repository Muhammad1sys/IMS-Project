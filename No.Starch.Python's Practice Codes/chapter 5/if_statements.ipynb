{
 "cells": [
  {
   "cell_type": "markdown",
   "metadata": {},
   "source": [
    "## If Statements"
   ]
  },
  {
   "cell_type": "code",
   "execution_count": 2,
   "metadata": {},
   "outputs": [
    {
     "name": "stdout",
     "output_type": "stream",
     "text": [
      "Audi\n",
      "BMW\n",
      "Sabaru\n",
      "Toyota\n"
     ]
    }
   ],
   "source": [
    "# cars.py\n",
    "\n",
    "cars : list[str] = ['audi', 'bmw', 'sabaru', 'toyota']\n",
    "for car in cars:\n",
    "    if car == \"bmw\":\n",
    "        print(car.upper())\n",
    "    else:\n",
    "        print(car.title())"
   ]
  },
  {
   "cell_type": "markdown",
   "metadata": {},
   "source": [
    "### Conditional Tests"
   ]
  },
  {
   "cell_type": "markdown",
   "metadata": {},
   "source": [
    "Most conditional tests compare the current value of a variable to a specific \n",
    "value of interest. The simplest conditional test checks whether the value of a \n",
    "variable is equal to the value of interest:"
   ]
  },
  {
   "cell_type": "code",
   "execution_count": 4,
   "metadata": {},
   "outputs": [
    {
     "name": "stdout",
     "output_type": "stream",
     "text": [
      "True\n"
     ]
    }
   ],
   "source": [
    "car : str = \"bmw\"\n",
    "print(car == \"bmw\")"
   ]
  },
  {
   "cell_type": "code",
   "execution_count": 5,
   "metadata": {},
   "outputs": [
    {
     "name": "stdout",
     "output_type": "stream",
     "text": [
      "False\n"
     ]
    }
   ],
   "source": [
    "car : str = \"bmw\"\n",
    "print(car == \"audi\")"
   ]
  },
  {
   "cell_type": "markdown",
   "metadata": {},
   "source": [
    "### Ignoring Case When Checking for Equality"
   ]
  },
  {
   "cell_type": "markdown",
   "metadata": {},
   "source": [
    "Testing for equality is case sensitive in Python. For example, two values with \n",
    "different capitalization are not considered equal:"
   ]
  },
  {
   "cell_type": "code",
   "execution_count": 7,
   "metadata": {},
   "outputs": [
    {
     "name": "stdout",
     "output_type": "stream",
     "text": [
      "False\n"
     ]
    }
   ],
   "source": [
    "car : str = \"Audi\"\n",
    "print(car == \"audi\")"
   ]
  },
  {
   "cell_type": "markdown",
   "metadata": {},
   "source": [
    "If case matters, this behavior is advantageous. But if case doesn’t matter \n",
    "and instead you just want to test the value of a variable, you can convert the \n",
    "variable’s value to lowercase before doing the comparison:"
   ]
  },
  {
   "cell_type": "code",
   "execution_count": 8,
   "metadata": {},
   "outputs": [
    {
     "name": "stdout",
     "output_type": "stream",
     "text": [
      "True\n"
     ]
    }
   ],
   "source": [
    "car : str = \"Audi\"\n",
    "print(car.lower() == \"audi\")"
   ]
  },
  {
   "cell_type": "code",
   "execution_count": 10,
   "metadata": {},
   "outputs": [
    {
     "name": "stdout",
     "output_type": "stream",
     "text": [
      "True\n",
      "\n",
      " Audi\n"
     ]
    }
   ],
   "source": [
    "car : str = \"Audi\"\n",
    "print(car.lower() == \"audi\")\n",
    "\n",
    "print(\"\\n\", car)"
   ]
  },
  {
   "cell_type": "markdown",
   "metadata": {},
   "source": [
    "### Checking for Inequality"
   ]
  },
  {
   "cell_type": "markdown",
   "metadata": {},
   "source": [
    "When you want to determine whether two values are not equal, you can \n",
    "combine an exclamation point and an equal sign (!=). The exclamation \n",
    "point represents not, as it does in many programming languages."
   ]
  },
  {
   "cell_type": "code",
   "execution_count": 12,
   "metadata": {},
   "outputs": [
    {
     "name": "stdout",
     "output_type": "stream",
     "text": [
      "Hold the Anchovies!\n"
     ]
    }
   ],
   "source": [
    "# toppings.py\n",
    "\n",
    "requested_topping : str = \"mashrooms\"\n",
    "\n",
    "if requested_topping != \"anchovies\":\n",
    "    print(\"Hold the Anchovies!\")"
   ]
  },
  {
   "cell_type": "markdown",
   "metadata": {},
   "source": [
    "### Numerical Comparisons"
   ]
  },
  {
   "cell_type": "markdown",
   "metadata": {},
   "source": [
    "Testing numerical values is pretty straightforward. For example, the following code checks whether a person is 18 years old:"
   ]
  },
  {
   "cell_type": "code",
   "execution_count": 13,
   "metadata": {},
   "outputs": [
    {
     "data": {
      "text/plain": [
       "True"
      ]
     },
     "execution_count": 13,
     "metadata": {},
     "output_type": "execute_result"
    }
   ],
   "source": [
    "age : int = 18\n",
    "age == 18"
   ]
  },
  {
   "cell_type": "code",
   "execution_count": 14,
   "metadata": {},
   "outputs": [
    {
     "name": "stdout",
     "output_type": "stream",
     "text": [
      "That is not the correct answer. Please try again!\n"
     ]
    }
   ],
   "source": [
    "# magic_number\n",
    "\n",
    "answer : int = 17\n",
    "\n",
    "if answer != 42:\n",
    "    print(\"That is not the correct answer. Please try again!\")"
   ]
  },
  {
   "cell_type": "markdown",
   "metadata": {},
   "source": [
    "You can include various mathematical comparisons in your conditional \n",
    "statements as well, such as less than, less than or equal to, greater than, and \n",
    "greater than or equal to:"
   ]
  },
  {
   "cell_type": "code",
   "execution_count": 15,
   "metadata": {},
   "outputs": [
    {
     "data": {
      "text/plain": [
       "True"
      ]
     },
     "execution_count": 15,
     "metadata": {},
     "output_type": "execute_result"
    }
   ],
   "source": [
    "age : int = 19\n",
    "age < 21"
   ]
  },
  {
   "cell_type": "code",
   "execution_count": 19,
   "metadata": {},
   "outputs": [
    {
     "data": {
      "text/plain": [
       "True"
      ]
     },
     "execution_count": 19,
     "metadata": {},
     "output_type": "execute_result"
    }
   ],
   "source": [
    "age : int = 19\n",
    "age <= 21"
   ]
  },
  {
   "cell_type": "code",
   "execution_count": 16,
   "metadata": {},
   "outputs": [
    {
     "data": {
      "text/plain": [
       "False"
      ]
     },
     "execution_count": 16,
     "metadata": {},
     "output_type": "execute_result"
    }
   ],
   "source": [
    "age : int = 19\n",
    "age > 21"
   ]
  },
  {
   "cell_type": "code",
   "execution_count": 20,
   "metadata": {},
   "outputs": [
    {
     "data": {
      "text/plain": [
       "False"
      ]
     },
     "execution_count": 20,
     "metadata": {},
     "output_type": "execute_result"
    }
   ],
   "source": [
    "age : int = 19\n",
    "age >= 21"
   ]
  },
  {
   "cell_type": "markdown",
   "metadata": {},
   "source": [
    "### Checking Multiple Conditions"
   ]
  },
  {
   "cell_type": "markdown",
   "metadata": {},
   "source": [
    "#### Using and to Check Multiple Conditions"
   ]
  },
  {
   "cell_type": "markdown",
   "metadata": {},
   "source": [
    "To check whether two conditions are both True simultaneously, use the keyword and to combine the two conditional tests; if each test passes, the overall expression evaluates to True. If either test fails or if both tests fail, the \n",
    "expression evaluates to False"
   ]
  },
  {
   "cell_type": "code",
   "execution_count": 23,
   "metadata": {},
   "outputs": [
    {
     "name": "stdout",
     "output_type": "stream",
     "text": [
      "False\n",
      "True\n"
     ]
    }
   ],
   "source": [
    "age_0 : int = 22\n",
    "age_1 : int = 18\n",
    "\n",
    "print(age_0 >= 20 and age_1 >= 20)\n",
    "\n",
    "age_1 : int = 22\n",
    "print(age_0 >= 21 and age_1 >= 21)"
   ]
  },
  {
   "cell_type": "markdown",
   "metadata": {},
   "source": [
    "#### Using or to Check Multiple Conditions"
   ]
  },
  {
   "cell_type": "markdown",
   "metadata": {},
   "source": [
    "The keyword or allows you to check multiple conditions as well, but it \n",
    "passes when either or both of the individual tests pass. An or expression \n",
    "fails only when both individual tests fail.\n",
    "Let’s consider two ages again, but this time we’ll look for only one person to be over 21:"
   ]
  },
  {
   "cell_type": "code",
   "execution_count": 24,
   "metadata": {},
   "outputs": [
    {
     "name": "stdout",
     "output_type": "stream",
     "text": [
      "True\n",
      "False\n"
     ]
    }
   ],
   "source": [
    "age_0 : int = 22\n",
    "age_1 : int = 18\n",
    "\n",
    "print(age_0 >= 20 or age_1 >= 20)\n",
    "\n",
    "age_0 : int = 18\n",
    "print(age_0 >= 21 or age_1 >= 21)"
   ]
  },
  {
   "cell_type": "markdown",
   "metadata": {},
   "source": [
    "#### Checking Whether a Value Is in a List"
   ]
  },
  {
   "cell_type": "markdown",
   "metadata": {},
   "source": [
    "To find out whether a particular value is already in a list, use the key\u0002word in. Let’s consider some code you might write for a pizzeria. We’ll \n",
    "make a list of toppings a customer has requested for a pizza and then \n",
    "check whether certain toppings are in the list.\n"
   ]
  },
  {
   "cell_type": "code",
   "execution_count": 25,
   "metadata": {},
   "outputs": [
    {
     "name": "stdout",
     "output_type": "stream",
     "text": [
      "True\n",
      "False\n"
     ]
    }
   ],
   "source": [
    "resquested_topping : list[str] = ['mashrooms','onions','pineapples']\n",
    "print('mashrooms' in requested_topping)\n",
    "\n",
    "print('pepperoni' in requested_topping)"
   ]
  },
  {
   "cell_type": "markdown",
   "metadata": {},
   "source": [
    "#### Checking Whether a Value Is Not in a List"
   ]
  },
  {
   "cell_type": "markdown",
   "metadata": {},
   "source": [
    "Other times, it’s important to know if a value does not appear in a list. You \n",
    "can use the keyword not in this situation. For example, consider a list of users \n",
    "who are banned from commenting in a forum. You can check whether a \n",
    "user has been banned before allowing that person to submit a comment:\n"
   ]
  },
  {
   "cell_type": "code",
   "execution_count": 27,
   "metadata": {},
   "outputs": [
    {
     "name": "stdout",
     "output_type": "stream",
     "text": [
      "Marie, you can post a response if you wish.\n"
     ]
    }
   ],
   "source": [
    "banned_users : list[str] = ['andrew', 'carolina', 'david']\n",
    "user : str = 'marie'\n",
    "\n",
    "if user not in banned_users:\n",
    "    print(user.title() + ', you can post a response if you wish.')"
   ]
  },
  {
   "cell_type": "markdown",
   "metadata": {},
   "source": [
    "#### Boolean Expressions"
   ]
  },
  {
   "cell_type": "markdown",
   "metadata": {},
   "source": [
    "+ A Boolean expression is just another name for a \n",
    "conditional test. A Boolean value is either True or False, just like the value \n",
    "of a conditional expression after it has been evaluated.\n",
    "+ Boolean values are often used to keep track of certain conditions, such \n",
    "as whether a game is running or whether a user can edit certain content on \n",
    "a website:\n",
    "----\n",
    "+ game_active = True\n",
    "\n",
    "+ can_edit = False"
   ]
  },
  {
   "cell_type": "markdown",
   "metadata": {},
   "source": [
    "#### Try it Yourself"
   ]
  },
  {
   "cell_type": "markdown",
   "metadata": {},
   "source": [
    "5-1. Conditional Tests: Write a series of conditional tests. Print a statement \n",
    "describing each test and your prediction for the results of each test. Your code \n",
    "should look something like this:\n",
    "``` python\n",
    "car = 'subaru'\n",
    "print(\"Is car == 'subaru'? I predict True.\")\n",
    "print(car == 'subaru')\n",
    "print(\"\\nIs car == 'audi'? I predict False.\")\n",
    "print(car == 'audi')\n",
    "```\n",
    "+\t Look closely at your results, and make sure you understand why each line \n",
    "evaluates to True or False.\n",
    "+\t Create at least 10 tests. Have at least 5 tests evaluate to True and another \n",
    "5 tests evaluate to False"
   ]
  },
  {
   "cell_type": "code",
   "execution_count": 29,
   "metadata": {},
   "outputs": [
    {
     "name": "stdout",
     "output_type": "stream",
     "text": [
      "Is car == 'sabaru'? I predict True\n",
      "True\n",
      "\n",
      "Is car != 'audi'? I predict True\n",
      "True\n",
      "\n",
      "Is car.lower() == 'sabaru'? I predict True\n",
      "True\n",
      "\n",
      "Is len(car) == 6? I predict True\n",
      "True\n",
      "\n",
      "Is car == 'sabaru' and len(car) == 6? I predict True\n",
      "True\n",
      "\n",
      "Is car == 'audi'? I predict False.\n",
      "False\n",
      "\n",
      "Is car == 'Sabaru'? I predict False.\n",
      "False\n",
      "\n",
      "Is car.startswith('a')? I predict False.\n",
      "False\n",
      "\n",
      "Is car.endswith('i') ? I predict False.\n",
      "False\n",
      "\n",
      "Is len(car) > 10 ? I predict False.\n",
      "False\n"
     ]
    }
   ],
   "source": [
    "car : str = \"sabaru\"\n",
    "\n",
    "# true tests\n",
    "print(\"Is car == 'sabaru'? I predict True\")\n",
    "print(car == 'sabaru')\n",
    "\n",
    "print(\"\\nIs car != 'audi'? I predict True\")\n",
    "print(car != 'audi')\n",
    "\n",
    "print(\"\\nIs car.lower() == 'sabaru'? I predict True\")\n",
    "print(car.lower() == 'sabaru')\n",
    "\n",
    "print(\"\\nIs len(car) == 6? I predict True\")\n",
    "print(len(car) == 6)\n",
    "\n",
    "print(\"\\nIs car == 'sabaru' and len(car) == 6? I predict True\")\n",
    "print(car == 'sabaru' and len(car) == 6)\n",
    "\n",
    "# False tests\n",
    "\n",
    "print(\"\\nIs car == 'audi'? I predict False.\")\n",
    "print(car == 'audi')\n",
    "\n",
    "print(\"\\nIs car == 'Sabaru'? I predict False.\")\n",
    "print(car == 'Sabaru')\n",
    "\n",
    "print(\"\\nIs car.startswith('a')? I predict False.\")\n",
    "print(car.startswith('a'))\n",
    "\n",
    "print(\"\\nIs car.endswith('i') ? I predict False.\")\n",
    "print(car.endswith('i'))\n",
    "\n",
    "print(\"\\nIs len(car) > 10 ? I predict False.\")\n",
    "print(len(car) > 10)\n",
    "\n",
    "\n",
    "\n",
    "\n",
    "\n"
   ]
  },
  {
   "cell_type": "markdown",
   "metadata": {},
   "source": [
    "5-2. More Conditional Tests: You don’t have to limit the number of tests you \n",
    "create to 10. If you want to try more comparisons, write more tests and add \n",
    "them to conditional_tests.py. Have at least one True and one False result for \n",
    "each of the following:\n",
    "+\t Tests for equality and inequality with strings\n",
    "+\t Tests using the lower() function\n",
    "+\t Numerical tests involving equality and inequality, greater than and \n",
    "less than, greater than or equal to, and less than or equal to\n",
    "+\t Tests using the and keyword and the or keyword\n",
    "+\t Test whether an item is in a list\n",
    "+\t Test whether an item is not in a list"
   ]
  },
  {
   "cell_type": "code",
   "execution_count": 34,
   "metadata": {},
   "outputs": [
    {
     "name": "stdout",
     "output_type": "stream",
     "text": [
      "Is car == \"audi\"? I predict True\n",
      "True\n",
      "\n",
      " Is car != \"audi\"? I predict False\n",
      "False\n",
      "\n",
      "Is car.lower() == \"audi\"? I predict True\n",
      "True\n",
      "\n",
      "Is car.upper() == \"Audi\"? I predict False\n",
      "False\n",
      "\n",
      "Is car == \"audi\"? and len(car) != 10. I predict False\n",
      "True\n",
      "\n",
      "Is car == \"audi\"? or len(car) != 10. I predict True\n",
      "True\n",
      "\n",
      "Is len(car) >= 10? I predict False\n",
      "False\n",
      "\n",
      "Is len(car) <= 10? I predict True\n",
      "True\n",
      "\n",
      "Is len(car) < 10? I predict True\n",
      "True\n",
      "\n",
      "Is len(car) > 10? I predict False\n",
      "False\n",
      "\n",
      "Nashta : ['nihari', 'pai', 'halwa pori']\n",
      "\n",
      "Is \"nihari\" in nashta_foods? I predict True.\n",
      "True\n",
      "\n",
      "Is \"channay\" in nashta_foods? I predict False.\n",
      "False\n"
     ]
    }
   ],
   "source": [
    "car : str = 'audi'\n",
    "print('Is car == \"audi\"? I predict True')\n",
    "print(car == 'audi')\n",
    "\n",
    "print('\\n Is car != \"audi\"? I predict False')\n",
    "print(car != 'audi')\n",
    "\n",
    "print('\\nIs car.lower() == \"audi\"? I predict True')\n",
    "print(car.lower() == 'audi')\n",
    "\n",
    "print('\\nIs car.upper() == \"Audi\"? I predict False')\n",
    "print(car.upper() == 'Audi')\n",
    "\n",
    "print('\\nIs car == \"audi\"? and len(car) != 10. I predict False')\n",
    "print(car == 'audi' and len(car) != 10 )\n",
    "\n",
    "print('\\nIs car == \"audi\"? or len(car) != 10. I predict True')\n",
    "print(car == 'audi' or len(car) != 10 )\n",
    "\n",
    "print('\\nIs len(car) >= 10? I predict False')\n",
    "print(len(car) >= 10 )\n",
    "\n",
    "print('\\nIs len(car) <= 10? I predict True')\n",
    "print(len(car) <= 10 )\n",
    "\n",
    "print('\\nIs len(car) < 10? I predict True')\n",
    "print(len(car) < 10 )\n",
    "\n",
    "print('\\nIs len(car) > 10? I predict False')\n",
    "print(len(car) > 10 )\n",
    "\n",
    "nashts_foods : list[str] = ['nihari', 'pai', 'halwa pori']\n",
    "\n",
    "print(f'\\nNashta : {nashts_foods}')\n",
    "print('\\nIs \"nihari\" in nashta_foods? I predict True.')\n",
    "print( 'nihari' in nashts_foods)\n",
    "\n",
    "print('\\nIs \"channay\" in nashta_foods? I predict False.')\n",
    "print( 'channay' in nashts_foods)\n"
   ]
  },
  {
   "cell_type": "markdown",
   "metadata": {},
   "source": [
    "### if Statements"
   ]
  },
  {
   "cell_type": "markdown",
   "metadata": {},
   "source": [
    "#### Simple if Statements\n",
    "\n",
    "The simplest kind of if statement has one test and one action:\n",
    "``` python\n",
    "if conditional_test:\n",
    "    do something\n",
    "```"
   ]
  },
  {
   "cell_type": "markdown",
   "metadata": {},
   "source": [
    "You can put any conditional test in the first line and just about any \n",
    "action in the indented block following the test. If the conditional test \n",
    "evaluates to True, Python executes the code following the if statement. \n",
    "If the test evaluates to False, Python ignores the code following the if\n",
    "statement"
   ]
  },
  {
   "cell_type": "code",
   "execution_count": 4,
   "metadata": {},
   "outputs": [
    {
     "name": "stdout",
     "output_type": "stream",
     "text": [
      "You are old enough to vote!\n"
     ]
    }
   ],
   "source": [
    "age: int = 19\n",
    "\n",
    "# Checking if the user is old enough to vote\n",
    "if age >= 18:\n",
    "    print(\"You are old enough to vote!\")\n"
   ]
  },
  {
   "cell_type": "markdown",
   "metadata": {},
   "source": [
    "Indentation plays the same role in if statements as it did in for loops. \n",
    "All indented lines after an if statement will be executed if the test passes, \n",
    "and the entire block of indented lines will be ignored if the test does \n",
    "not pass.\n",
    "You can have as many lines of code as you want in the block following the if statement. Let’s add another line of output if the person is old \n",
    "enough to vote, asking if the individual has registered to vote yet:"
   ]
  },
  {
   "cell_type": "code",
   "execution_count": 6,
   "metadata": {},
   "outputs": [
    {
     "name": "stdout",
     "output_type": "stream",
     "text": [
      "You are old enough to vote!\n",
      "Have you registered to vote yet?\n"
     ]
    }
   ],
   "source": [
    "age: int = 19\n",
    "\n",
    "# Checking if the user is old enough to vote\n",
    "if age >= 18:\n",
    "    print(\"You are old enough to vote!\")\n",
    "    print('Have you registered to vote yet?')"
   ]
  },
  {
   "cell_type": "markdown",
   "metadata": {},
   "source": [
    "If the value of age is less than 18, this program would produce no \n",
    "output."
   ]
  },
  {
   "cell_type": "markdown",
   "metadata": {},
   "source": [
    "### if-else Statements"
   ]
  },
  {
   "cell_type": "code",
   "execution_count": 8,
   "metadata": {},
   "outputs": [
    {
     "name": "stdout",
     "output_type": "stream",
     "text": [
      "Sorry you are too young to vote.\n",
      "Please register to vote as soon as you turn 18!\n"
     ]
    }
   ],
   "source": [
    "age: int = 17\n",
    "\n",
    "# Checking if the user is old enough to vote\n",
    "if age >= 18:\n",
    "    print(\"You are old enough to vote!\")\n",
    "    print('Have you registered to vote yet?')\n",
    "else:\n",
    "    print('Sorry you are too young to vote.')\n",
    "    print('Please register to vote as soon as you turn 18!')"
   ]
  },
  {
   "cell_type": "markdown",
   "metadata": {},
   "source": [
    "If the conditional test at u passes, the first block of indented print\n",
    "statements is executed. If the test evaluates to False, the else block at v is \n",
    "executed. Because age is less than 18 this time, the conditional test fails and \n",
    "the code in the else block is executed."
   ]
  },
  {
   "cell_type": "markdown",
   "metadata": {},
   "source": [
    "### The if-elif-else Chain"
   ]
  },
  {
   "cell_type": "markdown",
   "metadata": {},
   "source": [
    "``` text\n",
    "Often, you’ll need to test more than two possible situations, and to evaluate \n",
    "these you can use Python’s if-elif-else syntax. Python executes only one \n",
    "block in an if-elif-else chain. It runs each conditional test in order until \n",
    "one passes. When a test passes, the code following that test is executed and \n",
    "Python skips the rest of the tests.\n",
    "Many real-world situations involve more than two possible conditions. \n",
    "For example, consider an amusement park that charges different rates for \n",
    "different age groups:\n",
    "•\t Admission for anyone under age 4 is free.\n",
    "•\t Admission for anyone between the ages of 4 and 18 is $5.\n",
    "•\t Admission for anyone age 18 or older is $10.\n",
    "How can we use an if statement to determine a person’s admission rate? \n",
    "The following code tests for the age group of a person and then prints an \n",
    "admission price message:\n",
    "```"
   ]
  },
  {
   "cell_type": "code",
   "execution_count": 10,
   "metadata": {},
   "outputs": [
    {
     "name": "stdout",
     "output_type": "stream",
     "text": [
      "Your admission cost is $5.\n"
     ]
    }
   ],
   "source": [
    "# amusement_park.py\n",
    "\n",
    "age : int = 12\n",
    "\n",
    "if age < 4 :\n",
    "    print(\"Your admission cost is $0.\")\n",
    "elif age < 18:\n",
    "    print(\"Your admission cost is $5.\")\n",
    "else:\n",
    "    print(\"Your admission cost is $10.\")"
   ]
  },
  {
   "cell_type": "markdown",
   "metadata": {},
   "source": [
    "OR"
   ]
  },
  {
   "cell_type": "code",
   "execution_count": 13,
   "metadata": {},
   "outputs": [
    {
     "name": "stdout",
     "output_type": "stream",
     "text": [
      "Your admission cost is $ 5.\n"
     ]
    }
   ],
   "source": [
    "# amusement_park.py\n",
    "\n",
    "age : int = 12\n",
    "\n",
    "if age < 4 :\n",
    "    price : int = 0\n",
    "elif age < 18:\n",
    "    price : int = 5\n",
    "else:\n",
    "    price : int = 10\n",
    "    \n",
    "print(f\"Your admission cost is $ {str(price)}.\")"
   ]
  },
  {
   "cell_type": "markdown",
   "metadata": {},
   "source": [
    "### Using Multiple elif Blocks"
   ]
  },
  {
   "cell_type": "markdown",
   "metadata": {},
   "source": [
    "```text\n",
    "You can use as many elif blocks in your code as you like. For example, if the \n",
    "amusement park were to implement a discount for seniors, you could add \n",
    "one more conditional test to the code to determine whether someone quali\u0002fied for the senior discount. Let’s say that anyone 65 or older pays half the \n",
    "regular admission, or $5:\n",
    "```"
   ]
  },
  {
   "cell_type": "code",
   "execution_count": 14,
   "metadata": {},
   "outputs": [
    {
     "name": "stdout",
     "output_type": "stream",
     "text": [
      "Your admission cost is $ 5.\n"
     ]
    }
   ],
   "source": [
    "# amusement_park.py\n",
    "\n",
    "age : int = 12\n",
    "\n",
    "if age < 4 :\n",
    "    price : int = 0\n",
    "elif age < 18:\n",
    "    price : int = 5\n",
    "elif age < 65:\n",
    "    price : int = 10\n",
    "else:\n",
    "    price : int = 5\n",
    "    \n",
    "print(f\"Your admission cost is $ {str(price)}.\")"
   ]
  },
  {
   "cell_type": "markdown",
   "metadata": {},
   "source": [
    "### Omitting the else Block"
   ]
  },
  {
   "cell_type": "markdown",
   "metadata": {},
   "source": [
    "Python does not require an else block at the end of an if-elif chain. Sometimes an else block is useful; sometimes it is clearer to use an additional \n",
    "elif statement that catches the specific condition of interest"
   ]
  },
  {
   "cell_type": "code",
   "execution_count": 15,
   "metadata": {},
   "outputs": [
    {
     "name": "stdout",
     "output_type": "stream",
     "text": [
      "Your admission cost is $ 5.\n"
     ]
    }
   ],
   "source": [
    "# amusement_park.py\n",
    "\n",
    "age : int = 12\n",
    "\n",
    "if age < 4 :\n",
    "    price : int = 0\n",
    "elif age < 18:\n",
    "    price : int = 5\n",
    "elif age < 65:\n",
    "    price : int = 10\n",
    "elif age > 65:\n",
    "    price : int = 5\n",
    "    \n",
    "print(f\"Your admission cost is $ {str(price)}.\")"
   ]
  },
  {
   "cell_type": "markdown",
   "metadata": {},
   "source": [
    "### Testing Multiple Conditions"
   ]
  },
  {
   "cell_type": "markdown",
   "metadata": {},
   "source": [
    "``` text\n",
    "The if-elif-else chain is powerful, but it’s only appropriate to use when you \n",
    "just need one test to pass. As soon as Python finds one test that passes, it \n",
    "skips the rest of the tests. This behavior is beneficial, because it’s efficient \n",
    "and allows you to test for one specific condition.\n",
    "However, sometimes it’s important to check all of the conditions of \n",
    "interest. In this case, you should use a series of simple if statements with no \n",
    "elif or else blocks. This technique makes sense when more than one condition could be True, and you want to act on every condition that is True.\n",
    "Let’s reconsider the pizzeria example. If someone requests a two-topping \n",
    "pizza, you’ll need to be sure to include both toppings on their pizza:\n",
    "```"
   ]
  },
  {
   "cell_type": "code",
   "execution_count": 22,
   "metadata": {},
   "outputs": [
    {
     "name": "stdout",
     "output_type": "stream",
     "text": [
      "Adding mashrooms.\n",
      "Adding extra cheese.\n",
      "\n",
      "Finished making your pizza!\n"
     ]
    }
   ],
   "source": [
    "# toppings.py\n",
    "\n",
    "toppings : list[str] = ['mashrooms','extra cheese']\n",
    "\n",
    "if 'mashrooms' in toppings:\n",
    "    print('Adding mashrooms.')\n",
    "if 'pepperoni' in toppings:\n",
    "    print('Adding pepperoni.')\n",
    "if 'extra cheese' in toppings:\n",
    "    print('Adding extra cheese.')\n",
    "    \n",
    "print(\"\\nFinished making your pizza!\")"
   ]
  },
  {
   "cell_type": "markdown",
   "metadata": {},
   "source": [
    "In summary, if you want only one block of code to run, use an if-elif-else chain. If more than one block of code needs to run, use a series of \n",
    "independent if statements."
   ]
  },
  {
   "cell_type": "markdown",
   "metadata": {},
   "source": [
    "### Try it Yourself"
   ]
  },
  {
   "cell_type": "markdown",
   "metadata": {},
   "source": [
    "```text\n",
    "5-3. Alien Colors #1: Imagine an alien was just shot down in a game. Create a \n",
    "variable called alien_color and assign it a value of 'green', 'yellow', or 'red'.\n",
    "•\t Write an if statement to test whether the alien’s color is green. If it is, print \n",
    "a message that the player just earned 5 points.\n",
    "•\t Write one version of this program that passes the if test and another that \n",
    "fails. (The version that fails will have no output.)\n",
    "```\n"
   ]
  },
  {
   "cell_type": "code",
   "execution_count": 55,
   "metadata": {},
   "outputs": [
    {
     "name": "stdout",
     "output_type": "stream",
     "text": [
      "The player just earned 5 points.\n"
     ]
    }
   ],
   "source": [
    "alien_colors : list[str] = ['green']\n",
    "\n",
    "for alien_color in alien_colors:\n",
    "    if alien_color == 'green':\n",
    "        print('The player just earned 5 points.')\n",
    "    else:\n",
    "        break"
   ]
  },
  {
   "cell_type": "code",
   "execution_count": 56,
   "metadata": {},
   "outputs": [],
   "source": [
    "alien_colors : list[str] = ['red']\n",
    "\n",
    "for alien_color in alien_colors:\n",
    "    if alien_color == 'green':\n",
    "        print('The player just earned 5 points.')\n",
    "    else:\n",
    "        break"
   ]
  },
  {
   "cell_type": "markdown",
   "metadata": {},
   "source": [
    "``` text\n",
    "5-4. Alien Colors #2: Choose a color for an alien as you did in Exercise 5-3, and \n",
    "write an if-else chain.\n",
    "•\t If the alien’s color is green, print a statement that the player just earned \n",
    "5 points for shooting the alien.\n",
    "•\t If the alien’s color isn’t green, print a statement that the player just earned \n",
    "10 points.\n",
    "•\t Write one version of this program that runs the if block and another that \n",
    "runs the else block.\n",
    "```"
   ]
  },
  {
   "cell_type": "code",
   "execution_count": 57,
   "metadata": {},
   "outputs": [
    {
     "name": "stdout",
     "output_type": "stream",
     "text": [
      "The player just earned 10 points.\n"
     ]
    }
   ],
   "source": [
    "alien_colors : list[str] = ['red']\n",
    "\n",
    "for alien_color in alien_colors:\n",
    "    if alien_color == 'green':\n",
    "        print('The player just earned 5 points.')\n",
    "    else:\n",
    "        print('The player just earned 10 points.')"
   ]
  },
  {
   "cell_type": "markdown",
   "metadata": {},
   "source": [
    "```text\n",
    "5-5. Alien Colors #3: Turn your if-else chain from Exercise 5-4 into an if-elif\u0002else chain.\n",
    "•\t If the alien is green, print a message that the player earned 5 points.\n",
    "•\t If the alien is yellow, print a message that the player earned 10 points.\n",
    "•\t If the alien is red, print a message that the player earned 15 points.\n",
    "•\t Write three versions of this program, making sure each message is printed \n",
    "for the appropriate color alien.\n",
    "```"
   ]
  },
  {
   "cell_type": "code",
   "execution_count": 58,
   "metadata": {},
   "outputs": [
    {
     "name": "stdout",
     "output_type": "stream",
     "text": [
      "The player just earned 5 points.\n"
     ]
    }
   ],
   "source": [
    "alien_colors : list[str] = ['green']\n",
    "\n",
    "for alien_color in alien_colors:\n",
    "    if alien_color == 'green':\n",
    "        print('The player just earned 5 points.')\n",
    "    elif alien_color == 'yellow':\n",
    "        print('The player just earned 10 points.')\n",
    "    elif alien_color == 'red':\n",
    "        print('The player just earned 15 points.')"
   ]
  },
  {
   "cell_type": "code",
   "execution_count": 52,
   "metadata": {},
   "outputs": [
    {
     "name": "stdout",
     "output_type": "stream",
     "text": [
      "The player just earned 10 points\n"
     ]
    }
   ],
   "source": [
    "alien_colors : list[str] = ['yellow']\n",
    "\n",
    "for alien_color in alien_colors:\n",
    "    if alien_color == 'green':\n",
    "        print('The player just earned 5 points.')\n",
    "    elif alien_color == 'yellow':\n",
    "        print('The player just earned 10 points.')\n",
    "    elif alien_color == 'red':\n",
    "        print('The player just earned 15 points.')"
   ]
  },
  {
   "cell_type": "code",
   "execution_count": 54,
   "metadata": {},
   "outputs": [
    {
     "name": "stdout",
     "output_type": "stream",
     "text": [
      "The player just earned 15 points.\n"
     ]
    }
   ],
   "source": [
    "alien_colors : list[str] = ['red']\n",
    "\n",
    "for alien_color in alien_colors:\n",
    "    if alien_color == 'green':\n",
    "        print('The player just earned 5 points.')\n",
    "    elif alien_color == 'yellow':\n",
    "        print('The player just earned 10 points.')\n",
    "    elif alien_color == 'red':\n",
    "        print('The player just earned 15 points.')"
   ]
  },
  {
   "cell_type": "markdown",
   "metadata": {},
   "source": [
    "```text\n",
    "5-6. Stages of Life: Write an if-elif-else chain that determines a person’s \n",
    "stage of life. Set a value for the variable age, and then:\n",
    "•\t If the person is less than 2 years old, print a message that the person is \n",
    "a baby.\n",
    "•\t If the person is at least 2 years old but less than 4, print a message that \n",
    "the person is a toddler.\n",
    "•\t If the person is at least 4 years old but less than 13, print a message that \n",
    "the person is a kid.\n",
    "•\t If the person is at least 13 years old but less than 20, print a message that \n",
    "the person is a teenager.\n",
    "•\t If the person is at least 20 years old but less than 65, print a message that \n",
    "the person is an adult.\n",
    "•\t If the person is age 65 or older, print a message that the person is an \n",
    "elder.\n",
    "```"
   ]
  },
  {
   "cell_type": "code",
   "execution_count": 59,
   "metadata": {},
   "outputs": [
    {
     "name": "stdout",
     "output_type": "stream",
     "text": [
      "The person is a baby.\n",
      "The person is a toddler.\n",
      "The person is a toddler.\n",
      "The person is a kid.\n",
      "The person is a teenager.\n",
      "The person is an adult.\n",
      "The person is an adult.\n",
      "The person is an elder.\n"
     ]
    }
   ],
   "source": [
    "ages : list[int] = [1, 2, 3, 6, 14, 21, 55, 66]\n",
    "\n",
    "for age in ages:\n",
    "    if age < 2 :\n",
    "        print('The person is a baby.')\n",
    "    elif age >= 2 and age < 4 :\n",
    "        print('The person is a toddler.') \n",
    "    elif age >= 4 and age < 13 :\n",
    "        print('The person is a kid.')\n",
    "    elif age >= 13 and age < 20 :\n",
    "        print('The person is a teenager.')\n",
    "    elif age >= 20 and age < 65 :\n",
    "        print('The person is an adult.')\n",
    "    else:\n",
    "        print('The person is an elder.')"
   ]
  },
  {
   "cell_type": "markdown",
   "metadata": {},
   "source": [
    "```text\n",
    "5-7. Favorite Fruit: Make a list of your favorite fruits, and then write a series of \n",
    "independent if statements that check for certain fruits in your list.\n",
    "•\t Make a list of your three favorite fruits and call it favorite_fruits.\n",
    "•\t Write five if statements. Each should check whether a certain kind of fruit \n",
    "is in your list. If the fruit is in your list, the if block should print a statement, \n",
    "such as You really like bananas!\n",
    "```"
   ]
  },
  {
   "cell_type": "code",
   "execution_count": 60,
   "metadata": {},
   "outputs": [
    {
     "name": "stdout",
     "output_type": "stream",
     "text": [
      "You really like apples!\n",
      "You really like bananas!\n",
      "You really like mangoes!\n"
     ]
    }
   ],
   "source": [
    "favorite_fruits: list[str] = ['apple', 'banana', 'mango']\n",
    "\n",
    "# independent if statements to check for specific fruits\n",
    "if 'apple' in favorite_fruits:\n",
    "    print(\"You really like apples!\")\n",
    "\n",
    "if 'banana' in favorite_fruits:\n",
    "    print(\"You really like bananas!\")\n",
    "\n",
    "if 'mango' in favorite_fruits:\n",
    "    print(\"You really like mangoes!\")\n",
    "\n",
    "if 'orange' in favorite_fruits:\n",
    "    print(\"You really like oranges!\")\n",
    "\n",
    "if 'grape' in favorite_fruits:\n",
    "    print(\"You really like grapes!\")\n"
   ]
  },
  {
   "cell_type": "markdown",
   "metadata": {},
   "source": [
    "### Using if Statements with Lists"
   ]
  },
  {
   "cell_type": "markdown",
   "metadata": {},
   "source": [
    "#### Checking for Special Items"
   ]
  },
  {
   "cell_type": "markdown",
   "metadata": {},
   "source": [
    "Let’s continue with the pizzeria example. The pizzeria displays a message \n",
    "whenever a topping is added to your pizza, as it’s being made. The code for \n",
    "this action can be written very efficiently by making a list of toppings the \n",
    "customer has requested and using a loop to announce each topping as it’s \n",
    "added to the pizza:"
   ]
  },
  {
   "cell_type": "code",
   "execution_count": 25,
   "metadata": {},
   "outputs": [
    {
     "name": "stdout",
     "output_type": "stream",
     "text": [
      "Adding mashrooms.\n",
      "Adding green peppers.\n",
      "Adding extra cheese.\n",
      "\n",
      "Finished making your pizza!\n"
     ]
    }
   ],
   "source": [
    "requested_toppings : list[str] = ['mashrooms','green peppers','extra cheese']\n",
    "\n",
    "for requested_topping in requested_toppings:\n",
    "    print(\"Adding \" + requested_topping + \".\")\n",
    "\n",
    "print('\\nFinished making your pizza!')"
   ]
  },
  {
   "cell_type": "markdown",
   "metadata": {},
   "source": [
    "But what if the pizzeria runs out of green peppers? An if statement \n",
    "inside the for loop can handle this situation appropriately:"
   ]
  },
  {
   "cell_type": "code",
   "execution_count": 28,
   "metadata": {},
   "outputs": [
    {
     "name": "stdout",
     "output_type": "stream",
     "text": [
      "Adding mashrooms.\n",
      "Sorry, we are out of green peppers right now.\n",
      "Adding extra cheese.\n",
      "\n",
      "Finished making your pizza!\n"
     ]
    }
   ],
   "source": [
    "requested_toppings : list[str] = ['mashrooms','green peppers','extra cheese']\n",
    "\n",
    "for requested_topping in requested_toppings:\n",
    "    if requested_topping == 'green peppers':\n",
    "        print('Sorry, we are out of green peppers right now.')\n",
    "    else:\n",
    "        print(\"Adding \" + requested_topping + \".\")\n",
    "\n",
    "print('\\nFinished making your pizza!')"
   ]
  },
  {
   "cell_type": "markdown",
   "metadata": {},
   "source": [
    "#### Checking That a List Is Not Empty"
   ]
  },
  {
   "cell_type": "markdown",
   "metadata": {},
   "source": [
    "As an example, let’s check whether the list of requested toppings is \n",
    "empty before building the pizza. If the list is empty, we’ll prompt the user \n",
    "and make sure they want a plain pizza. If the list is not empty, we’ll build \n",
    "the pizza just as we did in the previous examples:"
   ]
  },
  {
   "cell_type": "code",
   "execution_count": 29,
   "metadata": {},
   "outputs": [
    {
     "name": "stdout",
     "output_type": "stream",
     "text": [
      "Are you sure you want a plin pizza?\n"
     ]
    }
   ],
   "source": [
    "requested_toppings : list[str] = []\n",
    "\n",
    "if requested_toppings:\n",
    "    for requested_topping in requested_toppings:\n",
    "        print(\"Adding \" + requested_topping + \".\")\n",
    "    print('\\nFinished making your pizza!')\n",
    "else:\n",
    "    print('Are you sure you want a plin pizza?')\n",
    "\n",
    "    "
   ]
  },
  {
   "cell_type": "markdown",
   "metadata": {},
   "source": [
    "#### Using Multiple Lists"
   ]
  },
  {
   "cell_type": "markdown",
   "metadata": {},
   "source": [
    "Let’s watch out for unusual topping requests before we build a pizza. \n",
    "The following example defines two lists. The first is a list of available toppings at the pizzeria, and the second is the list of toppings that the user has \n",
    "requested. This time, each item in requested_toppings is checked against the \n",
    "list of available toppings before it’s added to the pizza:"
   ]
  },
  {
   "cell_type": "code",
   "execution_count": 31,
   "metadata": {},
   "outputs": [
    {
     "name": "stdout",
     "output_type": "stream",
     "text": [
      "Adding mushrooms.\n",
      "Sorry, we don't have french fries.\n",
      "Adding extra cheese.\n",
      "\n",
      "Finished making your pizza!\n"
     ]
    }
   ],
   "source": [
    "available_toppings : list[str] = ['mushrooms', 'olives', 'green peppers', 'pepperoni', 'pineapple', 'extra cheese']\n",
    "requested_toppings : list[str] = ['mushrooms', 'french fries', 'extra cheese']\n",
    "\n",
    "for requested_topping in requested_toppings:\n",
    "    if requested_topping in available_toppings:\n",
    "        print(f'Adding {requested_topping}.')\n",
    "    else:\n",
    "        print(f\"Sorry, we don't have {requested_topping}.\")\n",
    "\n",
    "print('\\nFinished making your pizza!')"
   ]
  },
  {
   "cell_type": "markdown",
   "metadata": {},
   "source": [
    "#### Try It Yourself\n"
   ]
  },
  {
   "cell_type": "markdown",
   "metadata": {},
   "source": [
    "```text\n",
    "5-8. Hello Admin: Make a list of five or more usernames, including the name \n",
    "'admin'. Imagine you are writing code that will print a greeting to each user \n",
    "after they log in to a website. Loop through the list, and print a greeting to \n",
    "each user:\n",
    "•\t If the username is 'admin', print a special greeting, such as Hello admin, \n",
    "would you like to see a status report?\n",
    "•\t Otherwise, print a generic greeting, such as Hello Eric, thank you for logging in again.\n",
    "```\n"
   ]
  },
  {
   "cell_type": "code",
   "execution_count": 36,
   "metadata": {},
   "outputs": [
    {
     "name": "stdout",
     "output_type": "stream",
     "text": [
      "Hello Eric, thank you for logging in again.\n",
      "Hello James, thank you for logging in again.\n",
      "Hello Ali, thank you for logging in again.\n",
      "Hello Admin, would you like to see a status report?\n"
     ]
    }
   ],
   "source": [
    "users : list[str] = ['eric', 'james', 'ali', 'admin']\n",
    "\n",
    "for user in users:\n",
    "    if user == 'admin':\n",
    "        print(\"Hello Admin, would you like to see a status report?\")\n",
    "    else:\n",
    "        print(f\"Hello {user.title()}, thank you for logging in again.\")"
   ]
  },
  {
   "cell_type": "markdown",
   "metadata": {},
   "source": [
    "```text\n",
    "5-9. No Users: Add an if test to hello_admin.py to make sure the list of users is \n",
    "not empty.\n",
    "•\t If the list is empty, print the message We need to find some users!\n",
    "•\t Remove all of the usernames from your list, and make sure the correct \n",
    "message is printed.\n",
    "```\n"
   ]
  },
  {
   "cell_type": "code",
   "execution_count": 37,
   "metadata": {},
   "outputs": [
    {
     "name": "stdout",
     "output_type": "stream",
     "text": [
      "We need to find some users!\n"
     ]
    }
   ],
   "source": [
    "# hello_admin.py\n",
    "\n",
    "users : list[str] = []\n",
    "\n",
    "if users:\n",
    "    print(user)\n",
    "else:\n",
    "    print(\"We need to find some users!\")\n"
   ]
  },
  {
   "cell_type": "markdown",
   "metadata": {},
   "source": [
    "```text\n",
    "5-10. Checking Usernames: Do the following to create a program that simulates \n",
    "how websites ensure that everyone has a unique username.\n",
    "•\t Make a list of five or more usernames called current_users.\n",
    "•\t Make another list of five usernames called new_users. Make sure one or \n",
    "two of the new usernames are also in the current_users list.\n",
    "•\t Loop through the new_users list to see if each new username has already \n",
    "been used. If it has, print a message that the person will need to enter a \n",
    "new username. If a username has not been used, print a message saying \n",
    "that the username is available.\n",
    "•\t Make sure your comparison is case insensitive. If 'John' has been used, \n",
    "'JOHN' should not be accepted.\n",
    "```\n"
   ]
  },
  {
   "cell_type": "code",
   "execution_count": 41,
   "metadata": {},
   "outputs": [
    {
     "name": "stdout",
     "output_type": "stream",
     "text": [
      "\"afnan\" username is available.\n",
      "ali : The person will need to enter a new username.\n",
      "JAMES : The person will need to enter a new username.\n"
     ]
    }
   ],
   "source": [
    "usernames : list[str] = ['ahmed', 'ali', 'james']\n",
    "new_usernames : list[str] = ['afnan', 'ali', 'JAMES']\n",
    "\n",
    "for new_username in new_usernames:\n",
    "    if new_username.lower() in usernames:\n",
    "        print(f\"{new_username} : The person will need to enter a new username.\")\n",
    "    else:\n",
    "        print(f'\"{new_username}\" username is available.')\n"
   ]
  },
  {
   "cell_type": "markdown",
   "metadata": {},
   "source": [
    "```text\n",
    "5-11. Ordinal Numbers: Ordinal numbers indicate their position in a list, such \n",
    "as 1st or 2nd. Most ordinal numbers end in th, except 1, 2, and 3.\n",
    "•\t Store the numbers 1 through 9 in a list.\n",
    "•\t Loop through the list.\n",
    "•\t Use an if-elif-else chain inside the loop to print the proper ordinal ending for each number. Your output should read \"1st 2nd 3rd 4th 5th 6th \n",
    "7th 8th 9th\", and each result should be on a separate line.\n",
    "```"
   ]
  },
  {
   "cell_type": "code",
   "execution_count": 42,
   "metadata": {},
   "outputs": [
    {
     "name": "stdout",
     "output_type": "stream",
     "text": [
      "1st\n",
      "2nd\n",
      "3rd\n",
      "4th\n",
      "5th\n",
      "6th\n",
      "7th\n",
      "8th\n",
      "9th\n"
     ]
    }
   ],
   "source": [
    "numbers : list[int] = [1, 2, 3, 4, 5, 6, 7, 8, 9]\n",
    "\n",
    "for number in numbers:\n",
    "    if number == 1:\n",
    "        print(f'{number}st')\n",
    "    elif number == 2:\n",
    "        print(f\"{number}nd\")\n",
    "    elif number == 3:\n",
    "        print(f'{number}rd')\n",
    "    else:\n",
    "        print(f'{number}th')"
   ]
  },
  {
   "cell_type": "markdown",
   "metadata": {},
   "source": [
    "### Styling Your if Statements"
   ]
  },
  {
   "cell_type": "markdown",
   "metadata": {},
   "source": [
    "```text\n",
    "In every example in this chapter, you’ve seen good styling habits. The only \n",
    "recommendation PEP 8 provides for styling conditional tests is to use a \n",
    "single space around comparison operators, such as ==, >=, <=. For example:\n",
    "if age < 4:\n",
    "is better than:\n",
    "if age<4:\n",
    "Such spacing does not affect the way Python interprets your code; it just \n",
    "makes your code easier for you and others to read.\n",
    "```"
   ]
  },
  {
   "cell_type": "markdown",
   "metadata": {},
   "source": [
    "#### Try It Yourself\n",
    "``` text\n",
    "5-12. Styling if statements: Review the programs you wrote in this chapter, and \n",
    "make sure you styled your conditional tests appropriately.\n",
    "\n",
    "\n",
    "5-13. Your Ideas: At this point, you’re a more capable programmer than you \n",
    "were when you started this book. Now that you have a better sense of how \n",
    "real-world situations are modeled in programs, you might be thinking of some \n",
    "problems you could solve with your own programs. Record any new ideas you \n",
    "have about problems you might want to solve as your programming skills continue to improve. Consider games you might want to write, data sets you might \n",
    "want to explore, and web applications you’d like to create.\n",
    "```"
   ]
  }
 ],
 "metadata": {
  "kernelspec": {
   "display_name": "Python 3",
   "language": "python",
   "name": "python3"
  },
  "language_info": {
   "codemirror_mode": {
    "name": "ipython",
    "version": 3
   },
   "file_extension": ".py",
   "mimetype": "text/x-python",
   "name": "python",
   "nbconvert_exporter": "python",
   "pygments_lexer": "ipython3",
   "version": "3.10.2"
  }
 },
 "nbformat": 4,
 "nbformat_minor": 2
}
